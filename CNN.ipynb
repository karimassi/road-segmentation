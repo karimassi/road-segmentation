{
 "cells": [
  {
   "cell_type": "code",
   "execution_count": 1,
   "metadata": {},
   "outputs": [],
   "source": [
    "%load_ext autoreload\n",
    "%autoreload 2"
   ]
  },
  {
   "cell_type": "code",
   "execution_count": 4,
   "metadata": {
    "collapsed": false,
    "id": "gIxdBWEhcGk9",
    "jupyter": {
     "outputs_hidden": false
    }
   },
   "outputs": [],
   "source": [
    "%matplotlib inline\n",
    "import matplotlib.image as mpimg\n",
    "import numpy as np\n",
    "import matplotlib.pyplot as plt\n",
    "import os,sys\n",
    "from PIL import Image\n",
    "from torch.utils.data import Dataset, random_split\n",
    "import torchvision.io as io\n",
    "from torchvision import transforms \n",
    "import torch\n",
    "import torchvision\n",
    "from torch import nn"
   ]
  },
  {
   "cell_type": "markdown",
   "metadata": {
    "id": "kMQzoEBOMZfj"
   },
   "source": [
    "# *Set up environment* "
   ]
  },
  {
   "cell_type": "code",
   "execution_count": 5,
   "metadata": {
    "colab": {
     "base_uri": "https://localhost:8080/"
    },
    "id": "2qXcCArMcGk-",
    "outputId": "3bc586e9-8b5f-48cb-e86f-fcdf12010939"
   },
   "outputs": [
    {
     "name": "stdout",
     "output_type": "stream",
     "text": [
      "cpu\n"
     ]
    },
    {
     "name": "stderr",
     "output_type": "stream",
     "text": [
      "/home/karim/anaconda3/lib/python3.8/site-packages/torch/cuda/__init__.py:52: UserWarning: CUDA initialization: Found no NVIDIA driver on your system. Please check that you have an NVIDIA GPU and installed a driver from http://www.nvidia.com/Download/index.aspx (Triggered internally at  /pytorch/c10/cuda/CUDAFunctions.cpp:100.)\n",
      "  return torch._C._cuda_getDeviceCount() > 0\n"
     ]
    }
   ],
   "source": [
    "device = torch.device(\"cuda\" if torch.cuda.is_available() else \"cpu\")\n",
    "print(device)"
   ]
  },
  {
   "cell_type": "code",
   "execution_count": 6,
   "metadata": {
    "colab": {
     "base_uri": "https://localhost:8080/"
    },
    "id": "Tt08z5avcZyl",
    "outputId": "a8a635c2-0e78-41c9-9a87-f4953f9edb1e"
   },
   "outputs": [],
   "source": [
    "if \"google.colab\" in sys.modules:\n",
    "    from google.colab import drive\n",
    "    drive.mount('/content/drive', force_remount=True, use_metadata_server=False)"
   ]
  },
  {
   "cell_type": "code",
   "execution_count": 7,
   "metadata": {
    "id": "VxMv4qyh9EuX"
   },
   "outputs": [],
   "source": [
    "if \"google.colab\" in sys.modules:\n",
    "    import requests\n",
    "    # Save datagenerators as file to colab working directory\n",
    "    # If you are using GitHub, make sure you get the \"Raw\" version of the code\n",
    "    url = 'https://raw.githubusercontent.com/karimassi/road-segmentation/main/src/training.py?token=AFUMR6ANI6H6PQ6BZGQQI4C72E32O'\n",
    "    r = requests.get(url)\n",
    "\n",
    "    with open('training.py', 'w') as f:\n",
    "        f.write(r.text)\n",
    "\n",
    "    url = 'https://raw.githubusercontent.com/karimassi/road-segmentation/main/src/MyDataSet.py?token=AFUMR6FXF63DZ6R24EZXE4K72E33E'\n",
    "    r = requests.get(url)\n",
    "        \n",
    "    with open('MyDataSet.py', 'w') as f:\n",
    "        f.write(r.text)\n",
    "        \n",
    "    import MyDataSet\n",
    "    import training \n",
    "else:\n",
    "    from src import training   \n",
    "    from src import MyDataSet"
   ]
  },
  {
   "cell_type": "markdown",
   "metadata": {},
   "source": [
    "# *Baseline CNN Model*"
   ]
  },
  {
   "cell_type": "code",
   "execution_count": 6,
   "metadata": {
    "id": "Gv3In6TncGk-"
   },
   "outputs": [],
   "source": [
    "threshold = 0.25 # percentage of pixels > 1 required to assign a foreground label to a patch\n",
    "\n",
    "class PatchModel(nn.Module):\n",
    "    \"\"\"\n",
    "    Model that tells if a 16 x 16 RGB (as a 3 x 16 x 16 tensor) correspond to a road (1) or not (0)\n",
    "    \"\"\"\n",
    "    def __init__(self):\n",
    "        super().__init__()\n",
    "        \n",
    "        # 3 channels 16 x 16\n",
    "        self.conv1 = nn.Conv2d(\n",
    "            in_channels=3,\n",
    "            out_channels=32,\n",
    "            kernel_size=5\n",
    "        )\n",
    "\n",
    "        # 32 channels 12 x 12 (12 = 16 - (kernel_size - 1))\n",
    "        self.pool1 = nn.MaxPool2d(kernel_size=2)\n",
    "\n",
    "        # 32 channels 6 x 6 (6 = 12 / kernel_size)\n",
    "        self.conv2 = nn.Conv2d(\n",
    "            in_channels=32,\n",
    "            out_channels=64,\n",
    "            kernel_size=3\n",
    "        )\n",
    "\n",
    "        # 64 channels 4 x 4 (4 = 6 - (kernel_size - 1))\n",
    "        self.pool2 = nn.MaxPool2d(kernel_size=2)\n",
    "        \n",
    "        # 64 channels 2 x 2 (2 = 4 / kernel_size)\n",
    "        self.lin1 = nn.Linear(\n",
    "            in_features=64*2*2,\n",
    "            out_features= 512\n",
    "        )\n",
    "        self.lin2 = nn.Linear(\n",
    "            in_features=512,\n",
    "            out_features=1\n",
    "        )\n",
    "        self.relu = nn.ReLU()\n",
    "        self.sigmoid = nn.Sigmoid()\n",
    "    \n",
    "    def forward(self, x):\n",
    "        x = self.pool1(self.relu(self.conv1(x)))\n",
    "        x = self.pool2(self.relu(self.conv2(x)))\n",
    "        x = x.view(-1, 64*2*2)\n",
    "        x = self.relu(self.lin1(x))\n",
    "        x = self.sigmoid(self.lin2(x))\n",
    "        # If we are in testing mode then the output should be either 0 or 1\n",
    "        if not self.training:\n",
    "            x = 1 * (x > threshold)\n",
    "        return x.view(-1)"
   ]
  },
  {
   "cell_type": "markdown",
   "metadata": {
    "id": "pFfuoa_CMqzi"
   },
   "source": [
    "# *Load the data*"
   ]
  },
  {
   "cell_type": "code",
   "execution_count": null,
   "metadata": {
    "id": "gSI0n2ABcGk_"
   },
   "outputs": [],
   "source": [
    "batch_size = 100\n",
    "\n",
    "dataset = MyDataSet.PatchedSatImagesDataset(MyDataSet.img_path, MyDataSet.gt_path, threshold)\n",
    "\n",
    "rotations = [(45, 45), (90, 90), (135, 135), (180, 180), (-45, -45), (-90, -90), (-135, -135), (-180, -180)]\n",
    "for rotation in rotations:\n",
    "    dataset += MyDataSet.PatchedSatImagesDataset(MyDataSet.img_path, MyDataSet.gt_path, threshold, transforms.RandomRotation(rotation))\n",
    "    \n",
    "dataset += MyDataSet.PatchedSatImagesDataset(MyDataSet.img_path, MyDataSet.gt_path, threshold, transforms.RandomVerticalFlip(p = 1.0))\n",
    "dataset += MyDataSet.PatchedSatImagesDataset(MyDataSet.img_path, MyDataSet.gt_path, threshold, transforms.RandomHorizontalFlip(p = 1.0))\n",
    "\n",
    "data_len = len(dataset)\n",
    "train_len = round(data_len * 0.7)\n",
    "test_len = round(data_len * 0.3)\n",
    "\n",
    "dataset_train, dataset_test = random_split(dataset, [train_len, test_len])\n",
    "\n",
    "print(len(dataset_train), len(dataset_test))\n",
    "\n",
    "dataloader_train = torch.utils.data.DataLoader(\n",
    "    dataset_train,\n",
    "    batch_size=batch_size,\n",
    "    shuffle=True\n",
    ")\n",
    "\n",
    "dataloader_test = torch.utils.data.DataLoader(\n",
    "    dataset_test,\n",
    "    batch_size=batch_size,\n",
    "    shuffle=True\n",
    ")"
   ]
  },
  {
   "cell_type": "markdown",
   "metadata": {
    "id": "8O5OGG1eM9Om"
   },
   "source": [
    "# *Train the model*"
   ]
  },
  {
   "cell_type": "code",
   "execution_count": null,
   "metadata": {},
   "outputs": [],
   "source": [
    "num_epochs = 100\n",
    "learning_rate = 1e-2\n",
    "decay_rate = 0.95\n",
    "\n",
    "# Train the logistic regression model with the Adam optimizer\n",
    "criterion = torch.nn.BCELoss()\n",
    "model = PatchModel().to(device)\n",
    "\n",
    "optimizer = torch.optim.Adam(model.parameters(), lr=learning_rate)\n",
    "scheduler = torch.optim.lr_scheduler.ExponentialLR(optimizer=optimizer, gamma=decay_rate, verbose=True)\n",
    "training.train(model, criterion, dataloader_train, dataloader_test, optimizer, scheduler, num_epochs)"
   ]
  },
  {
   "cell_type": "markdown",
   "metadata": {
    "id": "W_k_rX4ZFtuV"
   },
   "source": [
    "# *Predict output for testing images*"
   ]
  },
  {
   "cell_type": "code",
   "execution_count": 28,
   "metadata": {
    "id": "CmqUxexDcGk_"
   },
   "outputs": [],
   "source": [
    "submission = MyDataSet.PatchedTestSatImagesDataset(MyDataSet.test_path)\n",
    "dataloader_submission = torch.utils.data.DataLoader(\n",
    "    submission, \n",
    "    batch_size=1,\n",
    "    shuffle=False\n",
    ")\n",
    "with open('submission.csv', 'w') as f:\n",
    "    f.write('id,prediction\\n')\n",
    "    model.eval()\n",
    "    for img_id, X in dataloader_submission:\n",
    "        X = X.to(device)\n",
    "        Y = model(X).item()\n",
    "        f.write(f'{img_id[0]},{Y}\\n')        "
   ]
  },
  {
   "cell_type": "code",
   "execution_count": null,
   "metadata": {
    "id": "Pqp-0IU6iY9Q"
   },
   "outputs": [],
   "source": []
  }
 ],
 "metadata": {
  "accelerator": "GPU",
  "colab": {
   "name": "CNN.ipynb",
   "provenance": []
  },
  "kernelspec": {
   "display_name": "Python 3",
   "language": "python",
   "name": "python3"
  },
  "language_info": {
   "codemirror_mode": {
    "name": "ipython",
    "version": 3
   },
   "file_extension": ".py",
   "mimetype": "text/x-python",
   "name": "python",
   "nbconvert_exporter": "python",
   "pygments_lexer": "ipython3",
   "version": "3.8.3"
  }
 },
 "nbformat": 4,
 "nbformat_minor": 4
}
