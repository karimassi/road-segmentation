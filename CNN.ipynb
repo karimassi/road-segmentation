{
 "cells": [
  {
   "cell_type": "code",
   "execution_count": 3,
   "metadata": {
    "collapsed": false,
    "id": "gIxdBWEhcGk9",
    "jupyter": {
     "outputs_hidden": false
    }
   },
   "outputs": [],
   "source": [
    "%matplotlib inline\n",
    "import matplotlib.image as mpimg\n",
    "import numpy as np\n",
    "import matplotlib.pyplot as plt\n",
    "import os,sys\n",
    "from PIL import Image\n",
    "from torch.utils.data import Dataset, random_split\n",
    "import torchvision.io as io\n",
    "import torch\n",
    "import torchvision\n",
    "from torch import nn"
   ]
  },
  {
   "cell_type": "code",
   "execution_count": 4,
   "metadata": {
    "colab": {
     "base_uri": "https://localhost:8080/"
    },
    "id": "2qXcCArMcGk-",
    "outputId": "e4431956-6e81-433a-aa59-01df63cf38ff"
   },
   "outputs": [
    {
     "name": "stdout",
     "output_type": "stream",
     "text": [
      "cuda\n"
     ]
    }
   ],
   "source": [
    "device = torch.device(\"cuda\" if torch.cuda.is_available() else \"cpu\")\n",
    "print(device)"
   ]
  },
  {
   "cell_type": "code",
   "execution_count": 9,
   "metadata": {
    "colab": {
     "base_uri": "https://localhost:8080/"
    },
    "id": "Tt08z5avcZyl",
    "outputId": "de94d57a-1ecf-4a22-a851-9704ada27072"
   },
   "outputs": [
    {
     "name": "stdout",
     "output_type": "stream",
     "text": [
      "Mounted at /content/drive\n"
     ]
    }
   ],
   "source": [
    "from google.colab import drive\n",
    "drive.mount('/content/drive', force_remount=True, use_metadata_server=False)"
   ]
  },
  {
   "cell_type": "code",
   "execution_count": 10,
   "metadata": {
    "id": "20eQKP95cGk-"
   },
   "outputs": [],
   "source": [
    "def accuracy(prediction, label):\n",
    "    \"\"\"\n",
    "    Compute the accuracy of the prediction\n",
    "    \n",
    "    @param prediction : the prediction of the model, int64 tensor of shape (batch_size), either 0 or 1\n",
    "    @param label      : the labels of the data     , int64 tensor of shape (batch_size), either 0 or 1\n",
    "    \"\"\"\n",
    "    \n",
    "    batch_size = label.size(0)\n",
    "    correct = torch.sum(prediction == label)\n",
    "    return (correct / batch_size).cpu()\n",
    "\n",
    "def F1_score(prediction, label):\n",
    "    \"\"\"\n",
    "    Compute the F1-score of the prediction\n",
    "    \n",
    "    @param prediction : the prediction of the model, int64 tensor of shape (batch_size), either 0 or 1\n",
    "    @param label      : the labels of the data     , int64 tensor of shape (batch_size), either 0 or 1\n",
    "    \"\"\"\n",
    "    \n",
    "    batch_size = label.size(0)\n",
    "    \n",
    "    precision = (torch.sum(prediction * label) / torch.sum(prediction))\n",
    "    recall = (torch.sum(prediction * label) / torch.sum(label))\n",
    "    \n",
    "    F1 = 2 * precision * recall / (precision + recall)\n",
    "    return F1.cpu().item()\n"
   ]
  },
  {
   "cell_type": "code",
   "execution_count": 34,
   "metadata": {
    "id": "Cux9sDR-cGk-"
   },
   "outputs": [],
   "source": [
    "def train(model, criterion, dataset_train, dataset_test, optimizer, num_epochs):\n",
    "    \"\"\"\n",
    "    Train the given model\n",
    "    \n",
    "    @param model         : torch.nn.Module\n",
    "    @param criterion     : torch.nn.modules.loss._Loss\n",
    "    @param dataset_train : torch.utils.data.DataLoader\n",
    "    @param dataset_test  : torch.utils.data.DataLoader\n",
    "    @param optimizer     : torch.optim.Optimizer\n",
    "    @param num_epochs    : int\n",
    "    \"\"\"\n",
    "    print(\"Starting training\")\n",
    "    model.to(device)\n",
    "    for epoch in range(num_epochs):\n",
    "        # Train an epoch\n",
    "        model.train()\n",
    "        for batch_x, batch_y in dataset_train:\n",
    "            batch_x, batch_y = batch_x.to(device), batch_y.to(device)\n",
    "\n",
    "            # Evaluate the network (forward pass)\n",
    "            batch_pred = model(batch_x)\n",
    "            loss = criterion(batch_pred, batch_y.float())\n",
    "\n",
    "            # Compute the gradient\n",
    "            optimizer.zero_grad()\n",
    "            loss.backward()\n",
    "\n",
    "            # Update the parameters of the model with a gradient step\n",
    "            optimizer.step()\n",
    "\n",
    "        # Test the quality on the test set\n",
    "        model.eval()\n",
    "        accuracies_test = []\n",
    "        f1_scores_test = []\n",
    "        for batch_x, batch_y in dataset_test:\n",
    "            batch_x, batch_y = batch_x.to(device), batch_y.to(device)\n",
    "\n",
    "            # Evaluate the network (forward pass)\n",
    "            prediction = model(batch_x)\n",
    "            accuracies_test.append(accuracy(prediction, batch_y))\n",
    "            f1_scores_test.append(F1_score(prediction, batch_y))\n",
    "\n",
    "        print(f\"Epoch {epoch + 1 : 2} | Test accuracy : {np.mean(accuracies_test):.5} | Test F1 : {np.mean(f1_scores_test):.5}\")"
   ]
  },
  {
   "cell_type": "code",
   "execution_count": 39,
   "metadata": {
    "id": "Gv3In6TncGk-"
   },
   "outputs": [],
   "source": [
    "threshold = 0.25 # percentage of pixels > 1 required to assign a foreground label to a patch\n",
    "\n",
    "class PatchModel(nn.Module):\n",
    "    \"\"\"\n",
    "    Model that tells if a 16 x 16 RGB (as a 3 x 16 x 16 tensor) correspond to a road (1) or not (0)\n",
    "    \"\"\"\n",
    "    def __init__(self):\n",
    "        super().__init__()\n",
    "        \n",
    "        # 3 channels 16 x 16\n",
    "        self.conv1 = nn.Conv2d(\n",
    "            in_channels=3,\n",
    "            out_channels=10,\n",
    "            kernel_size=5\n",
    "        )\n",
    "        # 10 channels 12 x 12 (12 = 16 - (kernel_size - 1))\n",
    "        self.pool1 = nn.MaxPool2d(kernel_size=2)\n",
    "        # 10 channels 6 x 6 (6 = 12 / kernel_size)\n",
    "        self.conv2 = nn.Conv2d(\n",
    "            in_channels=10,\n",
    "            out_channels=20,\n",
    "            kernel_size=3\n",
    "        )\n",
    "        # 20 channels 4 x 4 (4 = 6 - (kernel_size - 1))\n",
    "        self.pool2 = nn.MaxPool2d(kernel_size=2)\n",
    "        # 20 channels 2 x 2 (2 = 4 / kernel_size)\n",
    "        \n",
    "        self.lin1 = nn.Linear(\n",
    "            in_features=20 * 2 * 2,\n",
    "            out_features=10\n",
    "        )\n",
    "        self.lin2 = nn.Linear(\n",
    "            in_features=10,\n",
    "            out_features=1\n",
    "        )\n",
    "        self.relu = nn.ReLU()\n",
    "        self.sigmoid = nn.Sigmoid()\n",
    "    \n",
    "    def forward(self, x):\n",
    "        x = self.relu(self.pool1(self.conv1(x)))\n",
    "        x = self.relu(self.pool2(self.conv2(x)))\n",
    "        x = x.view(-1, 20 * 2 * 2)\n",
    "        x = self.relu(self.lin1(x))\n",
    "        x = self.sigmoid(self.lin2(x))\n",
    "        # If we are in testing mode then the output should be either 0 or 1\n",
    "        if not self.training:\n",
    "            x = 1 * (x > treshold)\n",
    "        return x.view(-1)"
   ]
  },
  {
   "cell_type": "code",
   "execution_count": 14,
   "metadata": {
    "colab": {
     "base_uri": "https://localhost:8080/"
    },
    "id": "pJ26aGkp8-06",
    "outputId": "77268823-b01f-4547-d745-6197aaa58d19"
   },
   "outputs": [
    {
     "name": "stdout",
     "output_type": "stream",
     "text": [
      "Requirement already satisfied: requests in /usr/local/lib/python3.6/dist-packages (2.23.0)\n",
      "Requirement already satisfied: certifi>=2017.4.17 in /usr/local/lib/python3.6/dist-packages (from requests) (2020.6.20)\n",
      "Requirement already satisfied: idna<3,>=2.5 in /usr/local/lib/python3.6/dist-packages (from requests) (2.10)\n",
      "Requirement already satisfied: chardet<4,>=3.0.2 in /usr/local/lib/python3.6/dist-packages (from requests) (3.0.4)\n",
      "Requirement already satisfied: urllib3!=1.25.0,!=1.25.1,<1.26,>=1.21.1 in /usr/local/lib/python3.6/dist-packages (from requests) (1.24.3)\n"
     ]
    }
   ],
   "source": [
    "!pip install requests"
   ]
  },
  {
   "cell_type": "code",
   "execution_count": 15,
   "metadata": {
    "id": "VxMv4qyh9EuX"
   },
   "outputs": [],
   "source": [
    "import requests\n",
    "# Save datagenerators as file to colab working directory\n",
    "# If you are using GitHub, make sure you get the \"Raw\" version of the code\n",
    "url = 'https://raw.githubusercontent.com/karimassi/road-segmentation/feature/data/MyDataSet.py?token=AH35XE5O6DUEEWEJA5UTHLK7YUPTG'\n",
    "r = requests.get(url)\n",
    "\n",
    "with open('MyDataSet.py', 'w') as f:\n",
    "    f.write(r.text)"
   ]
  },
  {
   "cell_type": "code",
   "execution_count": 28,
   "metadata": {
    "id": "tslKBxxHcGk-"
   },
   "outputs": [],
   "source": [
    "import MyDataSet"
   ]
  },
  {
   "cell_type": "code",
   "execution_count": 26,
   "metadata": {
    "colab": {
     "base_uri": "https://localhost:8080/"
    },
    "id": "S6N64ch8_tI3",
    "outputId": "5f2a923c-d87d-46d3-c923-3e93ef7c2ba3"
   },
   "outputs": [
    {
     "data": {
      "text/plain": [
       "tensor(1.)"
      ]
     },
     "execution_count": 26,
     "metadata": {
      "tags": []
     },
     "output_type": "execute_result"
    }
   ],
   "source": [
    "torch.tensor(1, dtype=torch.float32)"
   ]
  },
  {
   "cell_type": "code",
   "execution_count": 41,
   "metadata": {
    "colab": {
     "base_uri": "https://localhost:8080/"
    },
    "id": "gSI0n2ABcGk_",
    "outputId": "86b0ddeb-6207-4ddc-9cc0-2bd18dc1568d"
   },
   "outputs": [
    {
     "name": "stdout",
     "output_type": "stream",
     "text": [
      "43750 18750\n",
      "Starting training\n",
      "Epoch  1 | Test accuracy : 0.83213 | Test F1 : nan\n",
      "Epoch  2 | Test accuracy : 0.83191 | Test F1 : nan\n",
      "Epoch  3 | Test accuracy : 0.83218 | Test F1 : nan\n",
      "Epoch  4 | Test accuracy : 0.83638 | Test F1 : nan\n",
      "Epoch  5 | Test accuracy : 0.87048 | Test F1 : 0.49964\n",
      "Epoch  6 | Test accuracy : 0.9016 | Test F1 : 0.65668\n",
      "Epoch  7 | Test accuracy : 0.91 | Test F1 : 0.70151\n",
      "Epoch  8 | Test accuracy : 0.92527 | Test F1 : 0.75063\n",
      "Epoch  9 | Test accuracy : 0.92351 | Test F1 : 0.73732\n",
      "Epoch  10 | Test accuracy : 0.9225 | Test F1 : 0.71207\n"
     ]
    }
   ],
   "source": [
    "from torchvision import transforms \n",
    "num_epochs = 10\n",
    "learning_rate = 1e-3\n",
    "batch_size = 100\n",
    "\n",
    "dataset = MyDataSet.PatchedSatImagesDataset(MyDataSet.img_path, MyDataSet.gt_path, treshold)\n",
    "\n",
    "rotations = [(0, 45), (45, 90), (90, 135), (135, 180), (0, -45), (-45, -90), (-90, -135), (-135, -180)]\n",
    "for rotation in rotations:\n",
    "    dataset += MyDataSet.PatchedSatImagesDataset(MyDataSet.img_path, MyDataSet.gt_path, treshold, transforms.RandomRotation(rotation))\n",
    "\n",
    "data_len = len(dataset)\n",
    "train_len = int(data_len * 0.7)\n",
    "test_len = int(data_len * 0.3)\n",
    "\n",
    "dataset_train, dataset_test = random_split(dataset, [train_len, test_len])\n",
    "\n",
    "print(len(dataset_train), len(dataset_test))\n",
    "\n",
    "dataloader_train = torch.utils.data.DataLoader(\n",
    "    dataset_train,\n",
    "    batch_size=batch_size,\n",
    "    shuffle=True\n",
    ")\n",
    "\n",
    "dataloader_test = torch.utils.data.DataLoader(\n",
    "    dataset_test,\n",
    "    batch_size=batch_size,\n",
    "    shuffle=True\n",
    ")\n",
    "\n",
    "# Train the logistic regression model with the Adam optimizer\n",
    "criterion = torch.nn.MSELoss()\n",
    "model = PatchModel().to(device)\n",
    "\n",
    "optimizer = torch.optim.Adam(model.parameters(), lr=learning_rate)\n",
    "train(model, criterion, dataloader_train, dataloader_test, optimizer, num_epochs)\n"
   ]
  },
  {
   "cell_type": "code",
   "execution_count": null,
   "metadata": {
    "id": "CmqUxexDcGk_"
   },
   "outputs": [],
   "source": []
  }
 ],
 "metadata": {
  "accelerator": "GPU",
  "colab": {
   "name": "CNN.ipynb",
   "provenance": []
  },
  "kernelspec": {
   "display_name": "Python 3",
   "language": "python",
   "name": "python3"
  },
  "language_info": {
   "codemirror_mode": {
    "name": "ipython",
    "version": 3
   },
   "file_extension": ".py",
   "mimetype": "text/x-python",
   "name": "python",
   "nbconvert_exporter": "python",
   "pygments_lexer": "ipython3",
   "version": "3.8.3"
  }
 },
 "nbformat": 4,
 "nbformat_minor": 4
}
