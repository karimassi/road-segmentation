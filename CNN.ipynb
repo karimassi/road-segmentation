{
  "nbformat": 4,
  "nbformat_minor": 0,
  "metadata": {
    "accelerator": "GPU",
    "colab": {
      "name": "CNN.ipynb",
      "provenance": []
    },
    "kernelspec": {
      "display_name": "Python 3",
      "language": "python",
      "name": "python3"
    },
    "language_info": {
      "codemirror_mode": {
        "name": "ipython",
        "version": 3
      },
      "file_extension": ".py",
      "mimetype": "text/x-python",
      "name": "python",
      "nbconvert_exporter": "python",
      "pygments_lexer": "ipython3",
      "version": "3.8.3"
    }
  },
  "cells": [
    {
      "cell_type": "code",
      "metadata": {
        "id": "gIxdBWEhcGk9",
        "jupyter": {
          "outputs_hidden": false
        }
      },
      "source": [
        "%matplotlib inline\n",
        "import matplotlib.image as mpimg\n",
        "import numpy as np\n",
        "import matplotlib.pyplot as plt\n",
        "import os,sys\n",
        "from PIL import Image\n",
        "from torch.utils.data import Dataset, random_split\n",
        "import torchvision.io as io\n",
        "from torchvision import transforms \n",
        "import torch\n",
        "import torchvision\n",
        "from torch import nn"
      ],
      "execution_count": 17,
      "outputs": []
    },
    {
      "cell_type": "code",
      "metadata": {
        "colab": {
          "base_uri": "https://localhost:8080/"
        },
        "id": "2qXcCArMcGk-",
        "outputId": "86b81237-ed42-47c2-cfa6-410bb03acec9"
      },
      "source": [
        "device = torch.device(\"cuda\" if torch.cuda.is_available() else \"cpu\")\n",
        "print(device)"
      ],
      "execution_count": 18,
      "outputs": [
        {
          "output_type": "stream",
          "text": [
            "cuda\n"
          ],
          "name": "stdout"
        }
      ]
    },
    {
      "cell_type": "code",
      "metadata": {
        "colab": {
          "base_uri": "https://localhost:8080/"
        },
        "id": "Tt08z5avcZyl",
        "outputId": "fe16fecc-5749-4e31-f8bb-7195408c8393"
      },
      "source": [
        "if \"google.colab\" in sys.modules:\n",
        "    from google.colab import drive\n",
        "    drive.mount('/content/drive', force_remount=True, use_metadata_server=False)"
      ],
      "execution_count": 19,
      "outputs": [
        {
          "output_type": "stream",
          "text": [
            "Mounted at /content/drive\n"
          ],
          "name": "stdout"
        }
      ]
    },
    {
      "cell_type": "code",
      "metadata": {
        "id": "VxMv4qyh9EuX"
      },
      "source": [
        "if \"google.colab\" in sys.modules:\n",
        "    import requests\n",
        "    # Save datagenerators as file to colab working directory\n",
        "    # If you are using GitHub, make sure you get the \"Raw\" version of the code\n",
        "    url = 'https://raw.githubusercontent.com/karimassi/road-segmentation/main/src/training.py?token=AFUMR6FMXJI4DQHDQGBSNEK7YYMNU'\n",
        "    r = requests.get(url)\n",
        "\n",
        "    with open('training.py', 'w') as f:\n",
        "        f.write(r.text)\n",
        "\n",
        "    url = 'https://raw.githubusercontent.com/karimassi/road-segmentation/main/src/MyDataSet.py?token=AFUMR6FZBJ3XYQUEWMNXVGS7YYQRI'\n",
        "    r = requests.get(url)\n",
        "        \n",
        "    with open('MyDataSet.py', 'w') as f:\n",
        "        f.write(r.text)\n",
        "        \n",
        "    import MyDataSet\n",
        "    import training \n",
        "else:\n",
        "    from src import training   \n",
        "    from src import MyDataSet"
      ],
      "execution_count": 32,
      "outputs": []
    },
    {
      "cell_type": "code",
      "metadata": {
        "id": "Gv3In6TncGk-"
      },
      "source": [
        "threshold = 0.25 # percentage of pixels > 1 required to assign a foreground label to a patch\n",
        "\n",
        "class PatchModel(nn.Module):\n",
        "    \"\"\"\n",
        "    Model that tells if a 16 x 16 RGB (as a 3 x 16 x 16 tensor) correspond to a road (1) or not (0)\n",
        "    \"\"\"\n",
        "    def __init__(self):\n",
        "        super().__init__()\n",
        "        \n",
        "        # 3 channels 16 x 16\n",
        "        self.conv1 = nn.Conv2d(\n",
        "            in_channels=3,\n",
        "            out_channels=10,\n",
        "            kernel_size=5\n",
        "        )\n",
        "        # 10 channels 12 x 12 (12 = 16 - (kernel_size - 1))\n",
        "        self.pool1 = nn.MaxPool2d(kernel_size=2)\n",
        "        # 10 channels 6 x 6 (6 = 12 / kernel_size)\n",
        "        self.conv2 = nn.Conv2d(\n",
        "            in_channels=10,\n",
        "            out_channels=20,\n",
        "            kernel_size=3\n",
        "        )\n",
        "        # 20 channels 4 x 4 (4 = 6 - (kernel_size - 1))\n",
        "        self.pool2 = nn.MaxPool2d(kernel_size=2)\n",
        "        # 20 channels 2 x 2 (2 = 4 / kernel_size)\n",
        "        \n",
        "        self.lin1 = nn.Linear(\n",
        "            in_features=20 * 2 * 2,\n",
        "            out_features=10\n",
        "        )\n",
        "        self.lin2 = nn.Linear(\n",
        "            in_features=10,\n",
        "            out_features=1\n",
        "        )\n",
        "        self.relu = nn.ReLU()\n",
        "        self.sigmoid = nn.Sigmoid()\n",
        "    \n",
        "    def forward(self, x):\n",
        "        x = self.relu(self.pool1(self.conv1(x)))\n",
        "        x = self.relu(self.pool2(self.conv2(x)))\n",
        "        x = x.view(-1, 20 * 2 * 2)\n",
        "        x = self.relu(self.lin1(x))\n",
        "        x = self.sigmoid(self.lin2(x))\n",
        "        # If we are in testing mode then the output should be either 0 or 1\n",
        "        if not self.training:\n",
        "            x = 1 * (x > threshold)\n",
        "        return x.view(-1)"
      ],
      "execution_count": 21,
      "outputs": []
    },
    {
      "cell_type": "code",
      "metadata": {
        "colab": {
          "base_uri": "https://localhost:8080/"
        },
        "id": "gSI0n2ABcGk_",
        "outputId": "41e7e653-f8f0-4094-8cb3-d749a62835c3"
      },
      "source": [
        "num_epochs = 10\n",
        "learning_rate = 1e-3\n",
        "batch_size = 100\n",
        "\n",
        "dataset = MyDataSet.PatchedSatImagesDataset(MyDataSet.img_path, MyDataSet.gt_path, threshold)\n",
        "\n",
        "rotations = [(0, 45), (45, 90), (90, 135), (135, 180), (-45, 0), (-90, -45), (-135, -90), (-180, -135)]\n",
        "for rotation in rotations:\n",
        "    dataset += MyDataSet.PatchedSatImagesDataset(MyDataSet.img_path, MyDataSet.gt_path, threshold, transforms.RandomRotation(rotation))\n",
        "\n",
        "data_len = len(dataset)\n",
        "train_len = int(data_len * 0.7)\n",
        "test_len = int(data_len * 0.3)\n",
        "\n",
        "dataset_train, dataset_test = random_split(dataset, [train_len, test_len])\n",
        "\n",
        "print(len(dataset_train), len(dataset_test))\n",
        "\n",
        "dataloader_train = torch.utils.data.DataLoader(\n",
        "    dataset_train,\n",
        "    batch_size=batch_size,\n",
        "    shuffle=True\n",
        ")\n",
        "\n",
        "dataloader_test = torch.utils.data.DataLoader(\n",
        "    dataset_test,\n",
        "    batch_size=batch_size,\n",
        "    shuffle=True\n",
        ")\n",
        "\n",
        "# Train the logistic regression model with the Adam optimizer\n",
        "criterion = torch.nn.MSELoss()\n",
        "model = PatchModel().to(device)\n",
        "\n",
        "optimizer = torch.optim.Adam(model.parameters(), lr=learning_rate)\n",
        "train(model, criterion, dataloader_train, dataloader_test, optimizer, num_epochs)\n"
      ],
      "execution_count": 23,
      "outputs": [
        {
          "output_type": "stream",
          "text": [
            "393750 168750\n",
            "Starting training\n",
            "Epoch  1 | Test accuracy : 0.78519 | Test F1 : 0.61645\n",
            "Epoch  2 | Test accuracy : 0.85148 | Test F1 : 0.69238\n",
            "Epoch  3 | Test accuracy : 0.88124 | Test F1 : 0.73307\n",
            "Epoch  4 | Test accuracy : 0.89133 | Test F1 : 0.75651\n",
            "Epoch  5 | Test accuracy : 0.84621 | Test F1 : 0.70491\n",
            "Epoch  6 | Test accuracy : 0.903 | Test F1 : 0.77572\n",
            "Epoch  7 | Test accuracy : 0.9111 | Test F1 : 0.79106\n",
            "Epoch  8 | Test accuracy : 0.8453 | Test F1 : 0.70936\n",
            "Epoch  9 | Test accuracy : 0.91277 | Test F1 : 0.78106\n",
            "Epoch  10 | Test accuracy : 0.91624 | Test F1 : 0.80763\n"
          ],
          "name": "stdout"
        }
      ]
    },
    {
      "cell_type": "code",
      "metadata": {
        "id": "2rYnuEHD565_"
      },
      "source": [
        "import pickle \n",
        "pickle.dump(model, open( \"model.pkl\", \"wb\" ) )\n",
        "torch.save(model, 'model_2.pkl')"
      ],
      "execution_count": 37,
      "outputs": []
    },
    {
      "cell_type": "code",
      "metadata": {
        "id": "CmqUxexDcGk_"
      },
      "source": [
        "submission = MyDataSet.PatchedTestSatImagesDataset(MyDataSet.test_path)\n",
        "dataloader_submission = torch.utils.data.DataLoader(\n",
        "    submission, \n",
        "    batch_size=1,\n",
        "    shuffle=False\n",
        ")\n",
        "with open('submission.csv', 'w') as f:\n",
        "    f.write('id,prediction\\n')\n",
        "    model.eval()\n",
        "    for img_id, X in dataloader_submission:\n",
        "        X = X.to(device)\n",
        "        Y = model(X).item()\n",
        "        f.write(f'{img_id},{Y}')        "
      ],
      "execution_count": null,
      "outputs": []
    }
  ]
}