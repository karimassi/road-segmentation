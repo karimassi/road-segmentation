{
  "nbformat": 4,
  "nbformat_minor": 0,
  "metadata": {
    "kernelspec": {
      "display_name": "Python 3",
      "language": "python",
      "name": "python3"
    },
    "language_info": {
      "codemirror_mode": {
        "name": "ipython",
        "version": 3
      },
      "file_extension": ".py",
      "mimetype": "text/x-python",
      "name": "python",
      "nbconvert_exporter": "python",
      "pygments_lexer": "ipython3",
      "version": "3.8.5"
    },
    "colab": {
      "name": "CNN.ipynb",
      "provenance": [],
      "include_colab_link": true
    },
    "accelerator": "GPU"
  },
  "cells": [
    {
      "cell_type": "markdown",
      "metadata": {
        "id": "view-in-github",
        "colab_type": "text"
      },
      "source": [
        "<a href=\"https://colab.research.google.com/github/karimassi/road-segmentation/blob/test/CNN.ipynb\" target=\"_parent\"><img src=\"https://colab.research.google.com/assets/colab-badge.svg\" alt=\"Open In Colab\"/></a>"
      ]
    },
    {
      "cell_type": "code",
      "metadata": {
        "jupyter": {
          "outputs_hidden": false
        },
        "id": "gIxdBWEhcGk9"
      },
      "source": [
        "%matplotlib inline\n",
        "import matplotlib.image as mpimg\n",
        "import numpy as np\n",
        "import matplotlib.pyplot as plt\n",
        "import os,sys\n",
        "from PIL import Image\n",
        "from torch.utils.data import Dataset, random_split\n",
        "import torchvision.io as io\n",
        "import torch\n",
        "import torchvision\n",
        "from torch import nn"
      ],
      "execution_count": 1,
      "outputs": []
    },
    {
      "cell_type": "code",
      "metadata": {
        "id": "2qXcCArMcGk-",
        "outputId": "c1172187-dd07-49d7-ba89-faa805b81ba6",
        "colab": {
          "base_uri": "https://localhost:8080/"
        }
      },
      "source": [
        "device = torch.device(\"cuda\" if torch.cuda.is_available() else \"cpu\")\n",
        "print(device)"
      ],
      "execution_count": 2,
      "outputs": [
        {
          "output_type": "stream",
          "text": [
            "cuda\n"
          ],
          "name": "stdout"
        }
      ]
    },
    {
      "cell_type": "code",
      "metadata": {
        "id": "Tt08z5avcZyl",
        "outputId": "89330231-972d-4ffb-fcdb-4812297c54ae",
        "colab": {
          "base_uri": "https://localhost:8080/"
        }
      },
      "source": [
        "from google.colab import drive\n",
        "drive.mount('/content/drive', force_remount=True, use_metadata_server=False)"
      ],
      "execution_count": 3,
      "outputs": [
        {
          "output_type": "stream",
          "text": [
            "Mounted at /content/drive\n"
          ],
          "name": "stdout"
        }
      ]
    },
    {
      "cell_type": "code",
      "metadata": {
        "id": "20eQKP95cGk-"
      },
      "source": [
        "def accuracy(prediction, label):\n",
        "    \"\"\"\n",
        "    Compute the accuracy of the prediction\n",
        "    \n",
        "    @param prediction : the prediction of the model, int64 tensor of shape (batch_size), either 0 or 1\n",
        "    @param label      : the labels of the data     , int64 tensor of shape (batch_size), either 0 or 1\n",
        "    \"\"\"\n",
        "    \n",
        "    batch_size = label.size(0)\n",
        "    correct = torch.sum(prediction == label)\n",
        "    return (correct / batch_size).cpu()\n",
        "\n",
        "def F1_score(prediction, label):\n",
        "    \"\"\"\n",
        "    Compute the F1-score of the prediction\n",
        "    \n",
        "    @param prediction : the prediction of the model, int64 tensor of shape (batch_size), either 0 or 1\n",
        "    @param label      : the labels of the data     , int64 tensor of shape (batch_size), either 0 or 1\n",
        "    \"\"\"\n",
        "    \n",
        "    batch_size = label.size(0)\n",
        "    \n",
        "    precision = (torch.sum(prediction * label) / torch.sum(prediction))\n",
        "    recall = (torch.sum(prediction * label) / torch.sum(label))\n",
        "    \n",
        "    F1 = 2 * precision * recall / (precision + recall)\n",
        "    return F1.cpu().item()\n"
      ],
      "execution_count": 10,
      "outputs": []
    },
    {
      "cell_type": "code",
      "metadata": {
        "id": "Cux9sDR-cGk-"
      },
      "source": [
        "def train(model, criterion, dataset_train, dataset_test, optimizer, num_epochs):\n",
        "    \"\"\"\n",
        "    Train the given model\n",
        "    \n",
        "    @param model         : torch.nn.Module\n",
        "    @param criterion     : torch.nn.modules.loss._Loss\n",
        "    @param dataset_train : torch.utils.data.DataLoader\n",
        "    @param dataset_test  : torch.utils.data.DataLoader\n",
        "    @param optimizer     : torch.optim.Optimizer\n",
        "    @param num_epochs    : int\n",
        "    \"\"\"\n",
        "    print(\"Starting training\")\n",
        "    model.to(device)\n",
        "    for epoch in range(num_epochs):\n",
        "        # Train an epoch\n",
        "        model.train()\n",
        "        for batch_x, batch_y in dataset_train:\n",
        "            batch_x, batch_y = batch_x.to(device), batch_y.to(device)\n",
        "\n",
        "            # Evaluate the network (forward pass)\n",
        "            batch_pred = model(batch_x)\n",
        "            loss = criterion(batch_pred, batch_y)\n",
        "\n",
        "            # Compute the gradient\n",
        "            optimizer.zero_grad()\n",
        "            loss.backward()\n",
        "\n",
        "            # Update the parameters of the model with a gradient step\n",
        "            optimizer.step()\n",
        "\n",
        "        # Test the quality on the test set\n",
        "        model.eval()\n",
        "        accuracies_test = []\n",
        "        f1_scores_test = []\n",
        "        for batch_x, batch_y in dataset_test:\n",
        "            batch_x, batch_y = batch_x.to(device), batch_y.to(device)\n",
        "\n",
        "            # Evaluate the network (forward pass)\n",
        "            prediction = model(batch_x)\n",
        "            accuracies_test.append(accuracy(prediction, batch_y))\n",
        "            f1_scores_test.append(F1_score(prediction, batch_y))\n",
        "\n",
        "        print(f\"Epoch {epoch + 1 : 2} | Test accuracy : {np.mean(accuracies_test):.5} | Test F1 : {np.mean(f1_scores_test):.5}\")"
      ],
      "execution_count": 5,
      "outputs": []
    },
    {
      "cell_type": "code",
      "metadata": {
        "id": "Gv3In6TncGk-"
      },
      "source": [
        "treshold = 0.5\n",
        "\n",
        "class PatchModel(nn.Module):\n",
        "    \"\"\"\n",
        "    Model that tells if a 16 x 16 RGB (as a 3 x 16 x 16 tensor) correspond to a road (1) or not (0)\n",
        "    \"\"\"\n",
        "    def __init__(self):\n",
        "        super().__init__()\n",
        "        \n",
        "        # 3 channels 16 x 16\n",
        "        self.conv1 = nn.Conv2d(\n",
        "            in_channels=3,\n",
        "            out_channels=10,\n",
        "            kernel_size=5\n",
        "        )\n",
        "        # 10 channels 12 x 12 (12 = 16 - (kernel_size - 1))\n",
        "        self.pool1 = nn.MaxPool2d(kernel_size=2)\n",
        "        # 10 channels 6 x 6 (6 = 12 / kernel_size)\n",
        "        self.conv2 = nn.Conv2d(\n",
        "            in_channels=10,\n",
        "            out_channels=20,\n",
        "            kernel_size=3\n",
        "        )\n",
        "        # 20 channels 4 x 4 (4 = 6 - (kernel_size - 1))\n",
        "        self.pool2 = nn.MaxPool2d(kernel_size=2)\n",
        "        # 20 channels 2 x 2 (2 = 4 / kernel_size)\n",
        "        \n",
        "        self.lin1 = nn.Linear(\n",
        "            in_features=20 * 2 * 2,\n",
        "            out_features=10\n",
        "        )\n",
        "        self.lin2 = nn.Linear(\n",
        "            in_features=10,\n",
        "            out_features=1\n",
        "        )\n",
        "        self.relu = nn.ReLU()\n",
        "        self.sigmoid = nn.Sigmoid()\n",
        "    \n",
        "    def forward(self, x):\n",
        "        x = self.relu(self.pool1(self.conv1(x)))\n",
        "        x = self.relu(self.pool2(self.conv2(x)))\n",
        "        x = x.view(-1, 20 * 2 * 2)\n",
        "        x = self.relu(self.lin1(x))\n",
        "        x = self.sigmoid(self.lin2(x))\n",
        "        # If we are in testing mode then the output should be either 0 or 1\n",
        "        if not self.training:\n",
        "            x = 1 * (x > treshold)\n",
        "        return x.view(-1)"
      ],
      "execution_count": 6,
      "outputs": []
    },
    {
      "cell_type": "code",
      "metadata": {
        "id": "tslKBxxHcGk-"
      },
      "source": [
        "root_dir = \"/content/drive/Shareddrives/road-segmentation/data/\"\n",
        "img_path = root_dir + \"training/images/\"\n",
        "gt_path = root_dir + \"training/groundtruth/\"\n",
        "test_path = \"test_set_images/\""
      ],
      "execution_count": 7,
      "outputs": []
    },
    {
      "cell_type": "code",
      "metadata": {
        "id": "exL1x9ZecGk_"
      },
      "source": [
        "class PatchedSatImagesDataset(Dataset):\n",
        "    img_size = (400, 400)\n",
        "    patch_size = (16, 16)\n",
        "    \n",
        "    def __init__(self, training_img_path, training_gt_path, foreground_threshold = None, transform = None):\n",
        "        \"\"\"\n",
        "        Dataset for the traing data, this dataset is already patched\n",
        "        \n",
        "        @param training_img_path    : (string)             path to the training sat images\n",
        "        @param training_gt_path     : (string)             path to the groundtruth images\n",
        "        @param foreground_threshold : (float, optional)     if a value is provided then the label is 1 if the mean of the patch is greater than this value. \n",
        "                                                           if no value is provided, the mean is returned as label\n",
        "        @param transform            : (callable, optional) a transformation to apply to each patch before returning it\n",
        "        \"\"\"\n",
        "        super().__init__()\n",
        "        \n",
        "        # self.files = [{\"sat\" : io.read_image(training_img_path + f), \"gt\" : torch.tensor(mpimg.imread(training_gt_path + f))} for f in [f\"satImage_{i + 1:03}.png\" for i in range(10)]]\n",
        "        self.files = [{\"sat\" : io.read_image(training_img_path + f), \"gt\" : torch.tensor(mpimg.imread(training_gt_path + f))} for f in sorted(os.listdir(training_img_path))]\n",
        "        self.foreground_threshold = foreground_threshold\n",
        "        self.transform = transform\n",
        "    \n",
        "    def patch_per_img(self):\n",
        "        return (self.img_size[0] // self.patch_size[0]) * (self.img_size[1] // self.patch_size[1])\n",
        "    \n",
        "    def __len__(self): \n",
        "        return len(self.files) * self.patch_per_img()\n",
        "        \n",
        "    def __getitem__(self, idx):\n",
        "        files_number = idx // self.patch_per_img()\n",
        "        patch_number = idx % self.patch_per_img()\n",
        "        files = self.files[files_number]\n",
        "        sat_img = files[\"sat\"]\n",
        "        gt_img = files[\"gt\"]\n",
        "        row_number = patch_number // (self.img_size[0] // self.patch_size[0])\n",
        "        col_number = patch_number % (self.img_size[0] // self.patch_size[0])\n",
        "        \n",
        "        X = sat_img[:, row_number : row_number + self.patch_size[0], col_number : col_number + self.patch_size[1]] / 255\n",
        "        Y = torch.mean(gt_img[row_number : row_number + self.patch_size[0], col_number : col_number + self.patch_size[1]])\n",
        "        \n",
        "        if self.transform is not None:\n",
        "            X = self.transform(X)\n",
        "        \n",
        "        if self.foreground_threshold is not None:\n",
        "            if Y > self.foreground_threshold :\n",
        "                Y = 1\n",
        "            else :\n",
        "                Y = 0\n",
        "        \n",
        "        return X, Y"
      ],
      "execution_count": 18,
      "outputs": []
    },
    {
      "cell_type": "code",
      "metadata": {
        "id": "gSI0n2ABcGk_",
        "outputId": "4b2b4489-7dc4-47ae-8a42-4d1c9a5c858e",
        "colab": {
          "base_uri": "https://localhost:8080/"
        }
      },
      "source": [
        "num_epochs = 10\n",
        "learning_rate = 1e-3\n",
        "batch_size = 100\n",
        "\n",
        "dataset = PatchedSatImagesDataset(img_path, gt_path, treshold)\n",
        "\n",
        "data_len = len(dataset)\n",
        "train_len = int(data_len * 0.7)\n",
        "test_len = int(data_len * 0.3)\n",
        "\n",
        "dataset_train, dataset_test = random_split(dataset, [train_len, test_len])\n",
        "\n",
        "print(len(dataset_train), len(dataset_test))\n",
        "\n",
        "dataloader_train = torch.utils.data.DataLoader(\n",
        "    PatchedSatImagesDataset(img_path, gt_path),\n",
        "    batch_size=batch_size,\n",
        "    shuffle=True\n",
        ")\n",
        "\n",
        "dataloader_test = torch.utils.data.DataLoader(\n",
        "    PatchedSatImagesDataset(img_path, gt_path),\n",
        "    batch_size=batch_size,\n",
        "    shuffle=True\n",
        ")\n",
        "\n",
        "# Train the logistic regression model with the Adam optimizer\n",
        "criterion = torch.nn.MSELoss()\n",
        "model = PatchModel().to(device)\n",
        "\n",
        "optimizer = torch.optim.Adam(model.parameters(), lr=learning_rate)\n",
        "train(model, criterion, dataloader_train, dataloader_test, optimizer, num_epochs)\n"
      ],
      "execution_count": 19,
      "outputs": [
        {
          "output_type": "stream",
          "text": [
            "43750 18750\n",
            "Starting training\n",
            "Epoch  1 | Test accuracy : 0.71158 | Test F1 : nan\n",
            "Epoch  2 | Test accuracy : 0.71158 | Test F1 : nan\n",
            "Epoch  3 | Test accuracy : 0.71158 | Test F1 : nan\n",
            "Epoch  4 | Test accuracy : 0.70525 | Test F1 : nan\n",
            "Epoch  5 | Test accuracy : 0.69912 | Test F1 : 0.55745\n",
            "Epoch  6 | Test accuracy : 0.6956 | Test F1 : 0.64395\n",
            "Epoch  7 | Test accuracy : 0.69643 | Test F1 : 0.64751\n",
            "Epoch  8 | Test accuracy : 0.70686 | Test F1 : 0.5644\n",
            "Epoch  9 | Test accuracy : 0.69454 | Test F1 : 0.68143\n",
            "Epoch  10 | Test accuracy : 0.70152 | Test F1 : 0.69207\n"
          ],
          "name": "stdout"
        }
      ]
    },
    {
      "cell_type": "code",
      "metadata": {
        "id": "CmqUxexDcGk_"
      },
      "source": [
        ""
      ],
      "execution_count": null,
      "outputs": []
    }
  ]
}