{
  "nbformat": 4,
  "nbformat_minor": 0,
  "metadata": {
    "accelerator": "GPU",
    "colab": {
      "name": "CNN.ipynb",
      "provenance": [],
      "toc_visible": true
    },
    "kernelspec": {
      "display_name": "Python 3",
      "language": "python",
      "name": "python3"
    },
    "language_info": {
      "codemirror_mode": {
        "name": "ipython",
        "version": 3
      },
      "file_extension": ".py",
      "mimetype": "text/x-python",
      "name": "python",
      "nbconvert_exporter": "python",
      "pygments_lexer": "ipython3",
      "version": "3.8.3"
    },
    "widgets": {
      "application/vnd.jupyter.widget-state+json": {
        "f6ecb9ac2f3f4346a1072e389188f96f": {
          "model_module": "@jupyter-widgets/controls",
          "model_name": "HBoxModel",
          "state": {
            "_view_name": "HBoxView",
            "_dom_classes": [],
            "_model_name": "HBoxModel",
            "_view_module": "@jupyter-widgets/controls",
            "_model_module_version": "1.5.0",
            "_view_count": null,
            "_view_module_version": "1.5.0",
            "box_style": "",
            "layout": "IPY_MODEL_cff503b6de2747a899645e6fa7d6af27",
            "_model_module": "@jupyter-widgets/controls",
            "children": [
              "IPY_MODEL_eacbff91418f44ac96a10a56429ccc32",
              "IPY_MODEL_340738c8ff294be3b4bc58e55e8fae0c"
            ]
          }
        },
        "cff503b6de2747a899645e6fa7d6af27": {
          "model_module": "@jupyter-widgets/base",
          "model_name": "LayoutModel",
          "state": {
            "_view_name": "LayoutView",
            "grid_template_rows": null,
            "right": null,
            "justify_content": null,
            "_view_module": "@jupyter-widgets/base",
            "overflow": null,
            "_model_module_version": "1.2.0",
            "_view_count": null,
            "flex_flow": null,
            "width": null,
            "min_width": null,
            "border": null,
            "align_items": null,
            "bottom": null,
            "_model_module": "@jupyter-widgets/base",
            "top": null,
            "grid_column": null,
            "overflow_y": null,
            "overflow_x": null,
            "grid_auto_flow": null,
            "grid_area": null,
            "grid_template_columns": null,
            "flex": null,
            "_model_name": "LayoutModel",
            "justify_items": null,
            "grid_row": null,
            "max_height": null,
            "align_content": null,
            "visibility": null,
            "align_self": null,
            "height": null,
            "min_height": null,
            "padding": null,
            "grid_auto_rows": null,
            "grid_gap": null,
            "max_width": null,
            "order": null,
            "_view_module_version": "1.2.0",
            "grid_template_areas": null,
            "object_position": null,
            "object_fit": null,
            "grid_auto_columns": null,
            "margin": null,
            "display": null,
            "left": null
          }
        },
        "eacbff91418f44ac96a10a56429ccc32": {
          "model_module": "@jupyter-widgets/controls",
          "model_name": "FloatProgressModel",
          "state": {
            "_view_name": "ProgressView",
            "style": "IPY_MODEL_494a590e5d144369894ad3ca9d718591",
            "_dom_classes": [],
            "description": "100%",
            "_model_name": "FloatProgressModel",
            "bar_style": "success",
            "max": 50,
            "_view_module": "@jupyter-widgets/controls",
            "_model_module_version": "1.5.0",
            "value": 50,
            "_view_count": null,
            "_view_module_version": "1.5.0",
            "orientation": "horizontal",
            "min": 0,
            "description_tooltip": null,
            "_model_module": "@jupyter-widgets/controls",
            "layout": "IPY_MODEL_0077da4bc76940778000cc4568003728"
          }
        },
        "340738c8ff294be3b4bc58e55e8fae0c": {
          "model_module": "@jupyter-widgets/controls",
          "model_name": "HTMLModel",
          "state": {
            "_view_name": "HTMLView",
            "style": "IPY_MODEL_65edca84756445bda23b2cbfa94f99db",
            "_dom_classes": [],
            "description": "",
            "_model_name": "HTMLModel",
            "placeholder": "​",
            "_view_module": "@jupyter-widgets/controls",
            "_model_module_version": "1.5.0",
            "value": " 50/50 [00:00&lt;00:00, 70.75it/s]",
            "_view_count": null,
            "_view_module_version": "1.5.0",
            "description_tooltip": null,
            "_model_module": "@jupyter-widgets/controls",
            "layout": "IPY_MODEL_a189833f127548e79577e95870f091be"
          }
        },
        "494a590e5d144369894ad3ca9d718591": {
          "model_module": "@jupyter-widgets/controls",
          "model_name": "ProgressStyleModel",
          "state": {
            "_view_name": "StyleView",
            "_model_name": "ProgressStyleModel",
            "description_width": "initial",
            "_view_module": "@jupyter-widgets/base",
            "_model_module_version": "1.5.0",
            "_view_count": null,
            "_view_module_version": "1.2.0",
            "bar_color": null,
            "_model_module": "@jupyter-widgets/controls"
          }
        },
        "0077da4bc76940778000cc4568003728": {
          "model_module": "@jupyter-widgets/base",
          "model_name": "LayoutModel",
          "state": {
            "_view_name": "LayoutView",
            "grid_template_rows": null,
            "right": null,
            "justify_content": null,
            "_view_module": "@jupyter-widgets/base",
            "overflow": null,
            "_model_module_version": "1.2.0",
            "_view_count": null,
            "flex_flow": null,
            "width": null,
            "min_width": null,
            "border": null,
            "align_items": null,
            "bottom": null,
            "_model_module": "@jupyter-widgets/base",
            "top": null,
            "grid_column": null,
            "overflow_y": null,
            "overflow_x": null,
            "grid_auto_flow": null,
            "grid_area": null,
            "grid_template_columns": null,
            "flex": null,
            "_model_name": "LayoutModel",
            "justify_items": null,
            "grid_row": null,
            "max_height": null,
            "align_content": null,
            "visibility": null,
            "align_self": null,
            "height": null,
            "min_height": null,
            "padding": null,
            "grid_auto_rows": null,
            "grid_gap": null,
            "max_width": null,
            "order": null,
            "_view_module_version": "1.2.0",
            "grid_template_areas": null,
            "object_position": null,
            "object_fit": null,
            "grid_auto_columns": null,
            "margin": null,
            "display": null,
            "left": null
          }
        },
        "65edca84756445bda23b2cbfa94f99db": {
          "model_module": "@jupyter-widgets/controls",
          "model_name": "DescriptionStyleModel",
          "state": {
            "_view_name": "StyleView",
            "_model_name": "DescriptionStyleModel",
            "description_width": "",
            "_view_module": "@jupyter-widgets/base",
            "_model_module_version": "1.5.0",
            "_view_count": null,
            "_view_module_version": "1.2.0",
            "_model_module": "@jupyter-widgets/controls"
          }
        },
        "a189833f127548e79577e95870f091be": {
          "model_module": "@jupyter-widgets/base",
          "model_name": "LayoutModel",
          "state": {
            "_view_name": "LayoutView",
            "grid_template_rows": null,
            "right": null,
            "justify_content": null,
            "_view_module": "@jupyter-widgets/base",
            "overflow": null,
            "_model_module_version": "1.2.0",
            "_view_count": null,
            "flex_flow": null,
            "width": null,
            "min_width": null,
            "border": null,
            "align_items": null,
            "bottom": null,
            "_model_module": "@jupyter-widgets/base",
            "top": null,
            "grid_column": null,
            "overflow_y": null,
            "overflow_x": null,
            "grid_auto_flow": null,
            "grid_area": null,
            "grid_template_columns": null,
            "flex": null,
            "_model_name": "LayoutModel",
            "justify_items": null,
            "grid_row": null,
            "max_height": null,
            "align_content": null,
            "visibility": null,
            "align_self": null,
            "height": null,
            "min_height": null,
            "padding": null,
            "grid_auto_rows": null,
            "grid_gap": null,
            "max_width": null,
            "order": null,
            "_view_module_version": "1.2.0",
            "grid_template_areas": null,
            "object_position": null,
            "object_fit": null,
            "grid_auto_columns": null,
            "margin": null,
            "display": null,
            "left": null
          }
        }
      }
    }
  },
  "cells": [
    {
      "cell_type": "code",
      "metadata": {
        "id": "pB9fj7lWhcV0"
      },
      "source": [
        "%load_ext autoreload\n",
        "%autoreload 2"
      ],
      "execution_count": null,
      "outputs": []
    },
    {
      "cell_type": "code",
      "metadata": {
        "id": "gIxdBWEhcGk9",
        "jupyter": {
          "outputs_hidden": false
        }
      },
      "source": [
        "%matplotlib inline\n",
        "import matplotlib.image as mpimg\n",
        "import numpy as np\n",
        "import matplotlib.pyplot as plt\n",
        "import os,sys\n",
        "from PIL import Image\n",
        "from torch.utils.data import Dataset, random_split\n",
        "import torchvision.io as io\n",
        "from torchvision import transforms \n",
        "import torch\n",
        "import torchvision\n",
        "from torch import nn"
      ],
      "execution_count": null,
      "outputs": []
    },
    {
      "cell_type": "markdown",
      "metadata": {
        "id": "kMQzoEBOMZfj"
      },
      "source": [
        "# *Set up environment* "
      ]
    },
    {
      "cell_type": "code",
      "metadata": {
        "colab": {
          "base_uri": "https://localhost:8080/"
        },
        "id": "2qXcCArMcGk-",
        "outputId": "a54d6d53-952d-48ab-a86e-f2d61e1dc58a"
      },
      "source": [
        "device = torch.device(\"cuda\" if torch.cuda.is_available() else \"cpu\")\n",
        "print(device)"
      ],
      "execution_count": 3,
      "outputs": [
        {
          "output_type": "stream",
          "text": [
            "cuda\n"
          ],
          "name": "stdout"
        }
      ]
    },
    {
      "cell_type": "code",
      "metadata": {
        "colab": {
          "base_uri": "https://localhost:8080/"
        },
        "id": "Tt08z5avcZyl",
        "outputId": "4f6ab067-0d01-4e7d-cc80-3c49e4c9fcc5"
      },
      "source": [
        "if \"google.colab\" in sys.modules:\n",
        "    from google.colab import drive\n",
        "    drive.mount('/content/drive', force_remount=True, use_metadata_server=False)"
      ],
      "execution_count": 4,
      "outputs": [
        {
          "output_type": "stream",
          "text": [
            "Mounted at /content/drive\n"
          ],
          "name": "stdout"
        }
      ]
    },
    {
      "cell_type": "code",
      "metadata": {
        "id": "VxMv4qyh9EuX"
      },
      "source": [
        "if \"google.colab\" in sys.modules:\n",
        "    import requests\n",
        "    # Save datagenerators as file to colab working directory\n",
        "    # If you are using GitHub, make sure you get the \"Raw\" version of the code\n",
        "    url = 'https://raw.githubusercontent.com/karimassi/road-segmentation/main/src/training.py?token=AFUMR6BQXF77K7VSN3RV2BK73UJZA'\n",
        "    r = requests.get(url)\n",
        "\n",
        "    with open('training.py', 'w') as f:\n",
        "        f.write(r.text)\n",
        "\n",
        "    url = 'https://raw.githubusercontent.com/karimassi/road-segmentation/main/src/MyDataSet.py?token=AFUMR6AOHCJQRNWEIC2PSFC73UJZU'\n",
        "    r = requests.get(url)\n",
        "        \n",
        "    with open('MyDataSet.py', 'w') as f:\n",
        "        f.write(r.text)\n",
        "        \n",
        "    import MyDataSet\n",
        "    import training \n",
        "else:\n",
        "    from src import training   \n",
        "    from src import MyDataSet"
      ],
      "execution_count": 6,
      "outputs": []
    },
    {
      "cell_type": "markdown",
      "metadata": {
        "id": "_XXksT67hcWN"
      },
      "source": [
        "# *Baseline CNN Model*"
      ]
    },
    {
      "cell_type": "code",
      "metadata": {
        "id": "Gv3In6TncGk-"
      },
      "source": [
        "threshold = 0.25 # percentage of pixels > 1 required to assign a foreground label to a patch\n",
        "\n",
        "class PatchModel(nn.Module):\n",
        "    \"\"\"\n",
        "    Model that tells if a 16 x 16 RGB (as a 3 x 16 x 16 tensor) correspond to a road (1) or not (0)\n",
        "    \"\"\"\n",
        "    def __init__(self):\n",
        "        super().__init__()\n",
        "        \n",
        "        # 3 channels 16 x 16\n",
        "        self.conv1 = nn.Conv2d(\n",
        "            in_channels=3,\n",
        "            out_channels=32,\n",
        "            kernel_size=5\n",
        "        )\n",
        "\n",
        "        # 32 channels 12 x 12 (12 = 16 - (kernel_size - 1))\n",
        "        self.pool1 = nn.MaxPool2d(kernel_size=2)\n",
        "\n",
        "        # 32 channels 6 x 6 (6 = 12 / kernel_size)\n",
        "        self.conv2 = nn.Conv2d(\n",
        "            in_channels=32,\n",
        "            out_channels=64,\n",
        "            kernel_size=3\n",
        "        )\n",
        "\n",
        "        # 64 channels 4 x 4 (4 = 6 - (kernel_size - 1))\n",
        "        self.pool2 = nn.MaxPool2d(kernel_size=2)\n",
        "        \n",
        "        # 64 channels 2 x 2 (2 = 4 / kernel_size)\n",
        "        self.lin1 = nn.Linear(\n",
        "            in_features=64*2*2,\n",
        "            out_features= 512\n",
        "        )\n",
        "        self.lin2 = nn.Linear(\n",
        "            in_features=512,\n",
        "            out_features=1\n",
        "        )\n",
        "        self.relu = nn.ReLU()\n",
        "        self.sigmoid = nn.Sigmoid()\n",
        "    \n",
        "    def forward(self, x):\n",
        "        x = self.pool1(self.relu(self.conv1(x)))\n",
        "        x = self.pool2(self.relu(self.conv2(x)))\n",
        "        x = x.view(-1, 64*2*2)\n",
        "        x = self.relu(self.lin1(x))\n",
        "        x = self.sigmoid(self.lin2(x))\n",
        "        # If we are in testing mode then the output should be either 0 or 1\n",
        "        if not self.training:\n",
        "            x = 1 * (x > threshold)\n",
        "        return x.view(-1)"
      ],
      "execution_count": 7,
      "outputs": []
    },
    {
      "cell_type": "markdown",
      "metadata": {
        "id": "pFfuoa_CMqzi"
      },
      "source": [
        "# *Load the data*"
      ]
    },
    {
      "cell_type": "code",
      "metadata": {
        "id": "gSI0n2ABcGk_",
        "outputId": "7194d336-63b1-4072-a763-784741a91bb4",
        "colab": {
          "base_uri": "https://localhost:8080/"
        }
      },
      "source": [
        "batch_size = 100\n",
        "\n",
        "dataset = MyDataSet.PatchedSatImagesDataset(MyDataSet.img_path, MyDataSet.gt_path, threshold)\n",
        "\n",
        "rotations = [(45, 45), (90, 90), (135, 135), (180, 180), (-45, -45), (-90, -90), (-135, -135), (-180, -180)]\n",
        "for rotation in rotations:\n",
        "    dataset += MyDataSet.PatchedSatImagesDataset(MyDataSet.img_path, MyDataSet.gt_path, threshold, transforms.RandomRotation(rotation))\n",
        "    \n",
        "dataset += MyDataSet.PatchedSatImagesDataset(MyDataSet.img_path, MyDataSet.gt_path, threshold, transforms.RandomVerticalFlip(p = 1.0))\n",
        "dataset += MyDataSet.PatchedSatImagesDataset(MyDataSet.img_path, MyDataSet.gt_path, threshold, transforms.RandomHorizontalFlip(p = 1.0))\n",
        "\n",
        "data_len = len(dataset)\n",
        "train_len = round(data_len * 0.8)\n",
        "test_len = round(data_len * 0.2)\n",
        "\n",
        "dataset_train, dataset_test = random_split(dataset, [train_len, test_len])\n",
        "\n",
        "print(len(dataset_train), len(dataset_test))\n",
        "\n",
        "dataloader_train = torch.utils.data.DataLoader(\n",
        "    dataset_train,\n",
        "    batch_size=batch_size,\n",
        "    shuffle=True\n",
        ")\n",
        "\n",
        "dataloader_test = torch.utils.data.DataLoader(\n",
        "    dataset_test,\n",
        "    batch_size=batch_size,\n",
        "    shuffle=True\n",
        ")"
      ],
      "execution_count": 8,
      "outputs": [
        {
          "output_type": "stream",
          "text": [
            "550000 137500\n"
          ],
          "name": "stdout"
        }
      ]
    },
    {
      "cell_type": "markdown",
      "metadata": {
        "id": "ZtzyyiGMkxrT"
      },
      "source": [
        "# *Learning Rate Finder*"
      ]
    },
    {
      "cell_type": "code",
      "metadata": {
        "id": "5bvH5r2jk0et"
      },
      "source": [
        "!pip install torch-lr-finder"
      ],
      "execution_count": null,
      "outputs": []
    },
    {
      "cell_type": "code",
      "metadata": {
        "id": "JfQN1l1xk1mT",
        "outputId": "af080f45-90ec-4cea-fdfe-8532a9762497",
        "colab": {
          "base_uri": "https://localhost:8080/",
          "height": 385,
          "referenced_widgets": [
            "f6ecb9ac2f3f4346a1072e389188f96f",
            "cff503b6de2747a899645e6fa7d6af27",
            "eacbff91418f44ac96a10a56429ccc32",
            "340738c8ff294be3b4bc58e55e8fae0c",
            "494a590e5d144369894ad3ca9d718591",
            "0077da4bc76940778000cc4568003728",
            "65edca84756445bda23b2cbfa94f99db",
            "a189833f127548e79577e95870f091be"
          ]
        }
      },
      "source": [
        "from torch_lr_finder import LRFinder\n",
        "\n",
        "criterion = torch.nn.BCELoss()\n",
        "model = PatchModel().to(device)\n",
        "optimizer = torch.optim.SGD(model.parameters(), lr=1e-6, momentum = 0.9)\n",
        "\n",
        "lr_finder = LRFinder(model, optimizer, criterion, device=\"cuda\")\n",
        "lr_finder.range_test(dataloader_train, end_lr=1, num_iter=50)\n",
        "lr_finder.plot() # to inspect the loss-learning rate graph\n",
        "lr_finder.reset() # to reset the model and optimizer to their initial state"
      ],
      "execution_count": 30,
      "outputs": [
        {
          "output_type": "display_data",
          "data": {
            "application/vnd.jupyter.widget-view+json": {
              "model_id": "f6ecb9ac2f3f4346a1072e389188f96f",
              "version_minor": 0,
              "version_major": 2
            },
            "text/plain": [
              "HBox(children=(FloatProgress(value=0.0, max=50.0), HTML(value='')))"
            ]
          },
          "metadata": {
            "tags": []
          }
        },
        {
          "output_type": "stream",
          "text": [
            "\n",
            "Learning rate search finished. See the graph with {finder_name}.plot()\n",
            "LR suggestion: steepest gradient\n",
            "Suggested LR: 4.50E-02\n"
          ],
          "name": "stdout"
        },
        {
          "output_type": "display_data",
          "data": {
            "image/png": "[encoded data removed]",
            "text/plain": [
              "<Figure size 432x288 with 1 Axes>"
            ]
          },
          "metadata": {
            "tags": [],
            "needs_background": "light"
          }
        }
      ]
    },
    {
      "cell_type": "markdown",
      "metadata": {
        "id": "8O5OGG1eM9Om"
      },
      "source": [
        "# *Train the model*"
      ]
    },
    {
      "cell_type": "code",
      "metadata": {
        "id": "Zd_sdxuchcWR",
        "outputId": "a58a7c26-b65a-43ef-d028-ed1d6504130d",
        "colab": {
          "base_uri": "https://localhost:8080/"
        }
      },
      "source": [
        "num_epochs = 50\n",
        "learning_rate = 8e-2\n",
        "decay_rate = 0.95\n",
        "\n",
        "# Train the logistic regression model with the Adam optimizer\n",
        "criterion = torch.nn.BCELoss()\n",
        "model = PatchModel().to(device)\n",
        "\n",
        "optimizer = torch.optim.SGD(model.parameters(), lr=learning_rate, momentum = 0.9)\n",
        "scheduler = torch.optim.lr_scheduler.ExponentialLR(optimizer=optimizer, gamma=decay_rate, verbose=True)\n",
        "training.train(model, criterion, dataloader_train, dataloader_test, optimizer, scheduler, num_epochs)"
      ],
      "execution_count": 34,
      "outputs": [
        {
          "output_type": "stream",
          "text": [
            "Adjusting learning rate of group 0 to 8.0000e-02.\n",
            "Starting training\n",
            "Adjusting learning rate of group 0 to 7.6000e-02.\n",
            "Epoch  1 | Training loss : 2462.0 | Test accuracy : 0.74406 | Test F1 : 0.60793 | In 61.475 s\n",
            "Adjusting learning rate of group 0 to 7.2200e-02.\n",
            "Epoch  2 | Training loss : 2143.2 | Test accuracy : 0.77452 | Test F1 : 0.64104 | In 61.146 s\n",
            "Adjusting learning rate of group 0 to 6.8590e-02.\n",
            "Epoch  3 | Training loss : 2052.7 | Test accuracy : 0.7842 | Test F1 : 0.64722 | In 61.344 s\n",
            "Adjusting learning rate of group 0 to 6.5160e-02.\n",
            "Epoch  4 | Training loss : 1998.6 | Test accuracy : 0.79477 | Test F1 : 0.65076 | In 61.656 s\n",
            "Adjusting learning rate of group 0 to 6.1902e-02.\n",
            "Epoch  5 | Training loss : 1954.0 | Test accuracy : 0.81075 | Test F1 : 0.6613 | In 62.448 s\n",
            "Adjusting learning rate of group 0 to 5.8807e-02.\n",
            "Epoch  6 | Training loss : 1913.3 | Test accuracy : 0.79927 | Test F1 : 0.64424 | In 62.23 s\n",
            "Adjusting learning rate of group 0 to 5.5867e-02.\n",
            "Epoch  7 | Training loss : 1879.1 | Test accuracy : 0.80744 | Test F1 : 0.67232 | In 62.124 s\n",
            "Adjusting learning rate of group 0 to 5.3074e-02.\n",
            "Epoch  8 | Training loss : 1838.2 | Test accuracy : 0.82036 | Test F1 : 0.67721 | In 61.976 s\n",
            "Adjusting learning rate of group 0 to 5.0420e-02.\n",
            "Epoch  9 | Training loss : 1802.6 | Test accuracy : 0.77585 | Test F1 : 0.64643 | In 62.364 s\n",
            "Adjusting learning rate of group 0 to 4.7899e-02.\n",
            "Epoch  10 | Training loss : 1771.1 | Test accuracy : 0.78166 | Test F1 : 0.65762 | In 62.186 s\n",
            "Adjusting learning rate of group 0 to 4.5504e-02.\n",
            "Epoch  11 | Training loss : 1736.2 | Test accuracy : 0.81591 | Test F1 : 0.68443 | In 62.436 s\n",
            "Adjusting learning rate of group 0 to 4.3229e-02.\n",
            "Epoch  12 | Training loss : 1706.8 | Test accuracy : 0.81648 | Test F1 : 0.68344 | In 62.313 s\n",
            "Adjusting learning rate of group 0 to 4.1067e-02.\n",
            "Epoch  13 | Training loss : 1675.7 | Test accuracy : 0.8288 | Test F1 : 0.6857 | In 62.24 s\n",
            "Adjusting learning rate of group 0 to 3.9014e-02.\n",
            "Epoch  14 | Training loss : 1645.0 | Test accuracy : 0.80439 | Test F1 : 0.67746 | In 62.711 s\n",
            "Adjusting learning rate of group 0 to 3.7063e-02.\n",
            "Epoch  15 | Training loss : 1614.2 | Test accuracy : 0.82905 | Test F1 : 0.69122 | In 62.721 s\n",
            "Adjusting learning rate of group 0 to 3.5210e-02.\n",
            "Epoch  16 | Training loss : 1583.3 | Test accuracy : 0.83706 | Test F1 : 0.69373 | In 62.364 s\n",
            "Adjusting learning rate of group 0 to 3.3450e-02.\n",
            "Epoch  17 | Training loss : 1551.8 | Test accuracy : 0.81267 | Test F1 : 0.68032 | In 62.564 s\n",
            "Adjusting learning rate of group 0 to 3.1777e-02.\n",
            "Epoch  18 | Training loss : 1523.3 | Test accuracy : 0.81979 | Test F1 : 0.6901 | In 62.916 s\n",
            "Adjusting learning rate of group 0 to 3.0188e-02.\n",
            "Epoch  19 | Training loss : 1487.5 | Test accuracy : 0.82927 | Test F1 : 0.69482 | In 62.925 s\n",
            "Adjusting learning rate of group 0 to 2.8679e-02.\n",
            "Epoch  20 | Training loss : 1455.3 | Test accuracy : 0.82831 | Test F1 : 0.68611 | In 62.842 s\n",
            "Adjusting learning rate of group 0 to 2.7245e-02.\n",
            "Epoch  21 | Training loss : 1423.5 | Test accuracy : 0.82842 | Test F1 : 0.69757 | In 62.571 s\n",
            "Adjusting learning rate of group 0 to 2.5883e-02.\n",
            "Epoch  22 | Training loss : 1391.6 | Test accuracy : 0.82999 | Test F1 : 0.69726 | In 62.567 s\n",
            "Adjusting learning rate of group 0 to 2.4589e-02.\n",
            "Epoch  23 | Training loss : 1355.7 | Test accuracy : 0.83115 | Test F1 : 0.69992 | In 62.543 s\n",
            "Adjusting learning rate of group 0 to 2.3359e-02.\n",
            "Epoch  24 | Training loss : 1322.8 | Test accuracy : 0.83333 | Test F1 : 0.6992 | In 62.849 s\n",
            "Adjusting learning rate of group 0 to 2.2191e-02.\n",
            "Epoch  25 | Training loss : 1295.2 | Test accuracy : 0.83523 | Test F1 : 0.69923 | In 62.828 s\n",
            "Adjusting learning rate of group 0 to 2.1082e-02.\n",
            "Epoch  26 | Training loss : 1267.3 | Test accuracy : 0.82963 | Test F1 : 0.69732 | In 62.668 s\n",
            "Adjusting learning rate of group 0 to 2.0028e-02.\n",
            "Epoch  27 | Training loss : 1230.3 | Test accuracy : 0.83486 | Test F1 : 0.70079 | In 62.866 s\n",
            "Adjusting learning rate of group 0 to 1.9026e-02.\n",
            "Epoch  28 | Training loss : 1198.5 | Test accuracy : 0.82987 | Test F1 : 0.69934 | In 62.839 s\n",
            "Adjusting learning rate of group 0 to 1.8075e-02.\n",
            "Epoch  29 | Training loss : 1167.7 | Test accuracy : 0.83812 | Test F1 : 0.70181 | In 62.832 s\n",
            "Adjusting learning rate of group 0 to 1.7171e-02.\n",
            "Epoch  30 | Training loss : 1140.1 | Test accuracy : 0.83188 | Test F1 : 0.69594 | In 62.76 s\n",
            "Adjusting learning rate of group 0 to 1.6313e-02.\n",
            "Epoch  31 | Training loss : 1110.0 | Test accuracy : 0.83523 | Test F1 : 0.69934 | In 62.557 s\n",
            "Adjusting learning rate of group 0 to 1.5497e-02.\n",
            "Epoch  32 | Training loss : 1081.1 | Test accuracy : 0.83798 | Test F1 : 0.70265 | In 62.837 s\n",
            "Adjusting learning rate of group 0 to 1.4722e-02.\n",
            "Epoch  33 | Training loss : 1048.9 | Test accuracy : 0.84588 | Test F1 : 0.70515 | In 63.281 s\n",
            "Adjusting learning rate of group 0 to 1.3986e-02.\n",
            "Epoch  34 | Training loss : 1020.7 | Test accuracy : 0.83956 | Test F1 : 0.7012 | In 62.888 s\n",
            "Adjusting learning rate of group 0 to 1.3287e-02.\n",
            "Epoch  35 | Training loss : 995.78 | Test accuracy : 0.83508 | Test F1 : 0.69727 | In 62.686 s\n",
            "Adjusting learning rate of group 0 to 1.2622e-02.\n",
            "Epoch  36 | Training loss : 966.37 | Test accuracy : 0.84236 | Test F1 : 0.70182 | In 63.447 s\n",
            "Adjusting learning rate of group 0 to 1.1991e-02.\n",
            "Epoch  37 | Training loss : 940.18 | Test accuracy : 0.83951 | Test F1 : 0.70072 | In 63.205 s\n",
            "Adjusting learning rate of group 0 to 1.1392e-02.\n",
            "Epoch  38 | Training loss : 915.17 | Test accuracy : 0.84199 | Test F1 : 0.70227 | In 62.94 s\n",
            "Adjusting learning rate of group 0 to 1.0822e-02.\n",
            "Epoch  39 | Training loss : 888.03 | Test accuracy : 0.84332 | Test F1 : 0.7037 | In 63.462 s\n",
            "Adjusting learning rate of group 0 to 1.0281e-02.\n",
            "Epoch  40 | Training loss : 858.34 | Test accuracy : 0.84144 | Test F1 : 0.703 | In 63.192 s\n",
            "Adjusting learning rate of group 0 to 9.7669e-03.\n",
            "Epoch  41 | Training loss : 839.25 | Test accuracy : 0.845 | Test F1 : 0.7043 | In 63.383 s\n",
            "Adjusting learning rate of group 0 to 9.2786e-03.\n",
            "Epoch  42 | Training loss : 809.93 | Test accuracy : 0.84329 | Test F1 : 0.70052 | In 63.427 s\n",
            "Adjusting learning rate of group 0 to 8.8146e-03.\n",
            "Epoch  43 | Training loss : 789.06 | Test accuracy : 0.84316 | Test F1 : 0.70106 | In 63.387 s\n",
            "Adjusting learning rate of group 0 to 8.3739e-03.\n",
            "Epoch  44 | Training loss : 766.74 | Test accuracy : 0.84434 | Test F1 : 0.7009 | In 63.352 s\n",
            "Adjusting learning rate of group 0 to 7.9552e-03.\n",
            "Epoch  45 | Training loss : 743.83 | Test accuracy : 0.83937 | Test F1 : 0.70091 | In 63.142 s\n",
            "Adjusting learning rate of group 0 to 7.5575e-03.\n",
            "Epoch  46 | Training loss : 721.69 | Test accuracy : 0.84815 | Test F1 : 0.70236 | In 63.1 s\n",
            "Adjusting learning rate of group 0 to 7.1796e-03.\n",
            "Epoch  47 | Training loss : 701.46 | Test accuracy : 0.84241 | Test F1 : 0.70014 | In 62.945 s\n",
            "Adjusting learning rate of group 0 to 6.8206e-03.\n",
            "Epoch  48 | Training loss : 680.82 | Test accuracy : 0.84591 | Test F1 : 0.69991 | In 63.608 s\n",
            "Adjusting learning rate of group 0 to 6.4796e-03.\n",
            "Epoch  49 | Training loss : 656.79 | Test accuracy : 0.84677 | Test F1 : 0.7015 | In 63.25 s\n",
            "Adjusting learning rate of group 0 to 6.1556e-03.\n",
            "Epoch  50 | Training loss : 639.58 | Test accuracy : 0.84845 | Test F1 : 0.70202 | In 62.997 s\n"
          ],
          "name": "stdout"
        },
        {
          "output_type": "execute_result",
          "data": {
            "text/plain": [
              "([0.74405813,\n",
              "  0.77451634,\n",
              "  0.7842036,\n",
              "  0.79477084,\n",
              "  0.8107491,\n",
              "  0.79926544,\n",
              "  0.80744,\n",
              "  0.82036364,\n",
              "  0.7758472,\n",
              "  0.78165823,\n",
              "  0.8159127,\n",
              "  0.81648004,\n",
              "  0.82879996,\n",
              "  0.8043927,\n",
              "  0.82905453,\n",
              "  0.83706176,\n",
              "  0.81266904,\n",
              "  0.81978905,\n",
              "  0.8292655,\n",
              "  0.8283127,\n",
              "  0.8284219,\n",
              "  0.8299927,\n",
              "  0.83114904,\n",
              "  0.83333087,\n",
              "  0.83522916,\n",
              "  0.82962906,\n",
              "  0.8348581,\n",
              "  0.82986903,\n",
              "  0.8381163,\n",
              "  0.8318764,\n",
              "  0.83522916,\n",
              "  0.8379782,\n",
              "  0.8458764,\n",
              "  0.8395563,\n",
              "  0.83507633,\n",
              "  0.84236366,\n",
              "  0.8395127,\n",
              "  0.84198546,\n",
              "  0.84331644,\n",
              "  0.84143996,\n",
              "  0.84499633,\n",
              "  0.8432873,\n",
              "  0.84315646,\n",
              "  0.8443418,\n",
              "  0.8393673,\n",
              "  0.8481527,\n",
              "  0.8424146,\n",
              "  0.84591264,\n",
              "  0.8467709,\n",
              "  0.8484509],\n",
              " [0.6079338638999245,\n",
              "  0.6410381218520078,\n",
              "  0.6472233504165302,\n",
              "  0.6507578445781361,\n",
              "  0.6613026817061685,\n",
              "  0.6442435620264574,\n",
              "  0.6723179785555059,\n",
              "  0.6772068551236933,\n",
              "  0.6464325270436027,\n",
              "  0.657619231635874,\n",
              "  0.6844313983483749,\n",
              "  0.6834351142319766,\n",
              "  0.6857008997527035,\n",
              "  0.6774592862129212,\n",
              "  0.6912233019958843,\n",
              "  0.693726442488757,\n",
              "  0.6803214374238794,\n",
              "  0.6900955782370134,\n",
              "  0.6948160647912459,\n",
              "  0.6861086062734777,\n",
              "  0.6975654810992155,\n",
              "  0.6972596902197058,\n",
              "  0.6999208230322057,\n",
              "  0.6991951697956432,\n",
              "  0.6992301961725408,\n",
              "  0.6973210844776847,\n",
              "  0.7007854705723849,\n",
              "  0.6993366897756403,\n",
              "  0.7018059398260984,\n",
              "  0.6959405863285064,\n",
              "  0.6993375707322901,\n",
              "  0.7026455850601196,\n",
              "  0.7051499314091423,\n",
              "  0.7012032278017565,\n",
              "  0.697266962333159,\n",
              "  0.7018238500898535,\n",
              "  0.7007193784930489,\n",
              "  0.7022652166756717,\n",
              "  0.7037029739076441,\n",
              "  0.7030036702589555,\n",
              "  0.7042987173037095,\n",
              "  0.7005168088349429,\n",
              "  0.701061953978105,\n",
              "  0.7009007497700778,\n",
              "  0.70090979625962,\n",
              "  0.7023633233850652,\n",
              "  0.7001364595456557,\n",
              "  0.6999126740585674,\n",
              "  0.7014985831000589,\n",
              "  0.7020214182463559])"
            ]
          },
          "metadata": {
            "tags": []
          },
          "execution_count": 34
        }
      ]
    },
    {
      "cell_type": "code",
      "metadata": {
        "id": "OV1vfqaI1kO-"
      },
      "source": [
        "torch.save({\n",
        "            'model_state_dict': model.state_dict(),\n",
        "            'optimizer_state_dict': optimizer.state_dict()\n",
        "            }, '/content/drive/Shareddrives/road-segmentation/cnn_50_sgdmomentum_lr8e2_decay0.95')"
      ],
      "execution_count": 37,
      "outputs": []
    },
    {
      "cell_type": "code",
      "metadata": {
        "id": "6G4-HGHq3ncH",
        "outputId": "0cfe2d42-c09d-447a-a9c8-4dbab2e96fa0",
        "colab": {
          "base_uri": "https://localhost:8080/"
        }
      },
      "source": [
        "training.train(model, criterion, dataloader_train, dataloader_test, optimizer, scheduler, num_epochs)"
      ],
      "execution_count": null,
      "outputs": [
        {
          "output_type": "stream",
          "text": [
            "Starting training\n",
            "Adjusting learning rate of group 0 to 5.8478e-03.\n",
            "Epoch  1 | Training loss : 621.08 | Test accuracy : 0.84965 | Test F1 : 0.70278 | In 61.741 s\n",
            "Adjusting learning rate of group 0 to 5.5554e-03.\n",
            "Epoch  2 | Training loss : 600.62 | Test accuracy : 0.84502 | Test F1 : 0.70146 | In 61.678 s\n",
            "Adjusting learning rate of group 0 to 5.2777e-03.\n",
            "Epoch  3 | Training loss : 584.57 | Test accuracy : 0.84879 | Test F1 : 0.70328 | In 61.45 s\n",
            "Adjusting learning rate of group 0 to 5.0138e-03.\n",
            "Epoch  4 | Training loss : 566.53 | Test accuracy : 0.8441 | Test F1 : 0.70116 | In 61.602 s\n",
            "Adjusting learning rate of group 0 to 4.7631e-03.\n",
            "Epoch  5 | Training loss : 550.58 | Test accuracy : 0.84823 | Test F1 : 0.70405 | In 62.491 s\n",
            "Adjusting learning rate of group 0 to 4.5249e-03.\n",
            "Epoch  6 | Training loss : 534.36 | Test accuracy : 0.8486 | Test F1 : 0.70323 | In 61.894 s\n",
            "Adjusting learning rate of group 0 to 4.2987e-03.\n",
            "Epoch  7 | Training loss : 521.49 | Test accuracy : 0.84722 | Test F1 : 0.70109 | In 61.012 s\n",
            "Adjusting learning rate of group 0 to 4.0837e-03.\n",
            "Epoch  8 | Training loss : 508.49 | Test accuracy : 0.84793 | Test F1 : 0.70168 | In 60.757 s\n",
            "Adjusting learning rate of group 0 to 3.8796e-03.\n",
            "Epoch  9 | Training loss : 494.15 | Test accuracy : 0.84913 | Test F1 : 0.70386 | In 60.966 s\n",
            "Adjusting learning rate of group 0 to 3.6856e-03.\n",
            "Epoch  10 | Training loss : 481.02 | Test accuracy : 0.84729 | Test F1 : 0.70179 | In 61.306 s\n",
            "Adjusting learning rate of group 0 to 3.5013e-03.\n",
            "Epoch  11 | Training loss : 469.32 | Test accuracy : 0.84812 | Test F1 : 0.70256 | In 60.812 s\n",
            "Adjusting learning rate of group 0 to 3.3262e-03.\n",
            "Epoch  12 | Training loss : 457.68 | Test accuracy : 0.84932 | Test F1 : 0.7028 | In 60.629 s\n",
            "Adjusting learning rate of group 0 to 3.1599e-03.\n",
            "Epoch  13 | Training loss : 447.61 | Test accuracy : 0.84921 | Test F1 : 0.70289 | In 60.678 s\n",
            "Adjusting learning rate of group 0 to 3.0019e-03.\n",
            "Epoch  14 | Training loss : 438.65 | Test accuracy : 0.8486 | Test F1 : 0.70225 | In 60.667 s\n",
            "Adjusting learning rate of group 0 to 2.8518e-03.\n",
            "Epoch  15 | Training loss : 427.51 | Test accuracy : 0.8506 | Test F1 : 0.70191 | In 60.834 s\n",
            "Adjusting learning rate of group 0 to 2.7092e-03.\n",
            "Epoch  16 | Training loss : 419.74 | Test accuracy : 0.8491 | Test F1 : 0.70286 | In 60.875 s\n",
            "Adjusting learning rate of group 0 to 2.5738e-03.\n",
            "Epoch  17 | Training loss : 411.1 | Test accuracy : 0.84986 | Test F1 : 0.70075 | In 60.662 s\n",
            "Adjusting learning rate of group 0 to 2.4451e-03.\n",
            "Epoch  18 | Training loss : 404.29 | Test accuracy : 0.8486 | Test F1 : 0.7028 | In 60.5 s\n",
            "Adjusting learning rate of group 0 to 2.3228e-03.\n",
            "Epoch  19 | Training loss : 396.73 | Test accuracy : 0.84946 | Test F1 : 0.70248 | In 60.553 s\n",
            "Adjusting learning rate of group 0 to 2.2067e-03.\n",
            "Epoch  20 | Training loss : 389.96 | Test accuracy : 0.84972 | Test F1 : 0.70209 | In 60.802 s\n"
          ],
          "name": "stdout"
        }
      ]
    },
    {
      "cell_type": "markdown",
      "metadata": {
        "id": "W_k_rX4ZFtuV"
      },
      "source": [
        "# *Predict output for testing images*"
      ]
    },
    {
      "cell_type": "code",
      "metadata": {
        "id": "CmqUxexDcGk_"
      },
      "source": [
        "submission = MyDataSet.PatchedTestSatImagesDataset(MyDataSet.test_path)\n",
        "dataloader_submission = torch.utils.data.DataLoader(\n",
        "    submission, \n",
        "    batch_size=1,\n",
        "    shuffle=False\n",
        ")\n",
        "with open('submission.csv', 'w') as f:\n",
        "    f.write('id,prediction\\n')\n",
        "    model.eval()\n",
        "    for img_id, X in dataloader_submission:\n",
        "        X = X.to(device)\n",
        "        Y = model(X).item()\n",
        "        f.write(f'{img_id[0]},{Y}\\n')        "
      ],
      "execution_count": null,
      "outputs": []
    },
    {
      "cell_type": "code",
      "metadata": {
        "id": "Pqp-0IU6iY9Q"
      },
      "source": [
        ""
      ],
      "execution_count": null,
      "outputs": []
    }
  ]
}