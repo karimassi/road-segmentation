{
 "cells": [
  {
   "cell_type": "markdown",
   "metadata": {},
   "source": [
    "# Training our CNN baseline model"
   ]
  },
  {
   "cell_type": "code",
   "execution_count": 1,
   "metadata": {
    "id": "pB9fj7lWhcV0"
   },
   "outputs": [],
   "source": [
    "%load_ext autoreload\n",
    "%autoreload 2"
   ]
  },
  {
   "cell_type": "code",
   "execution_count": 2,
   "metadata": {
    "collapsed": false,
    "id": "gIxdBWEhcGk9",
    "jupyter": {
     "outputs_hidden": false
    }
   },
   "outputs": [],
   "source": [
    "%matplotlib inline\n",
    "import os,sys\n",
    "from torch.utils.data import random_split, DataLoader\n",
    "import torch\n",
    "import torchvision.transforms.functional as TF"
   ]
  },
  {
   "cell_type": "markdown",
   "metadata": {
    "id": "kMQzoEBOMZfj"
   },
   "source": [
    "## Set up the environment "
   ]
  },
  {
   "cell_type": "code",
   "execution_count": null,
   "metadata": {},
   "outputs": [],
   "source": [
    "root_dir = \"/content/drive/Shareddrives/road-segmentation/data/\" if \"google.colab\" in sys.modules else \"data/\"\n",
    "img_path = root_dir + \"training/images/\"\n",
    "gt_path = root_dir + \"training/groundtruth/\"\n",
    "test_path = root_dir + \"test_set_images/\""
   ]
  },
  {
   "cell_type": "code",
   "execution_count": 3,
   "metadata": {
    "colab": {
     "base_uri": "https://localhost:8080/"
    },
    "id": "2qXcCArMcGk-",
    "outputId": "a7c9011a-56c5-486f-bb49-604682e4f989"
   },
   "outputs": [
    {
     "name": "stdout",
     "output_type": "stream",
     "text": [
      "cuda\n"
     ]
    }
   ],
   "source": [
    "device = torch.device(\"cuda\" if torch.cuda.is_available() else \"cpu\")\n",
    "print(device)"
   ]
  },
  {
   "cell_type": "code",
   "execution_count": 4,
   "metadata": {
    "colab": {
     "base_uri": "https://localhost:8080/"
    },
    "id": "Tt08z5avcZyl",
    "outputId": "7a833c65-b504-4c18-e368-ad2ec928e341"
   },
   "outputs": [
    {
     "name": "stdout",
     "output_type": "stream",
     "text": [
      "Mounted at /content/drive\n"
     ]
    }
   ],
   "source": [
    "if \"google.colab\" in sys.modules:\n",
    "    from google.colab import drive\n",
    "    drive.mount('/content/drive', force_remount=True, use_metadata_server=False)"
   ]
  },
  {
   "cell_type": "code",
   "execution_count": 5,
   "metadata": {
    "id": "VxMv4qyh9EuX"
   },
   "outputs": [],
   "source": [
    "from src import training   \n",
    "from src.models.patch_model import PatchModel\n",
    "from src.patched_image_dataset import PatchedSatImagesDataset, PatchedTestSatImagesDataset"
   ]
  },
  {
   "cell_type": "markdown",
   "metadata": {
    "id": "pFfuoa_CMqzi"
   },
   "source": [
    "## Load the data"
   ]
  },
  {
   "cell_type": "code",
   "execution_count": 7,
   "metadata": {
    "colab": {
     "base_uri": "https://localhost:8080/"
    },
    "id": "gSI0n2ABcGk_",
    "outputId": "9a3b50ce-0637-4169-ba33-5e144df0a35c"
   },
   "outputs": [
    {
     "name": "stdout",
     "output_type": "stream",
     "text": [
      "550000 137500\n"
     ]
    }
   ],
   "source": [
    "batch_size = 100\n",
    "threshold = 0.25 # percentage of pixels > 1 required to assign a foreground label to a patch\n",
    "\n",
    "dataset = PatchedSatImagesDataset(img_path, gt_path, threshold)\n",
    "\n",
    "# Perform data augmentation by rotation and shearing\n",
    "angles = [15, -10, 45, -60, 78]\n",
    "for angle in angles:\n",
    "    rotation = lambda img: TF.rotate(img, angle)\n",
    "    dataset += PatchedSatImagesDataset(img_path, gt_path, threshold, rotation)\n",
    "    \n",
    "shears = [[15, 20], [10, 30], [30, -17], [-3, 20], [-5, -10]]\n",
    "for shear in shears:\n",
    "    transformation = lambda img: TF.affine(img, angle=0, scale=1.0, translate=[0, 0], shear=shear)\n",
    "    dataset += PatchedSatImagesDataset(img_path, gt_path, threshold, transformation)\n",
    "\n",
    "# Split the data in 80/20 for training and validation\n",
    "data_len = len(dataset)\n",
    "train_len = int(data_len * 0.8)\n",
    "test_len = int(data_len * 0.2)\n",
    "\n",
    "dataset_train, dataset_test = random_split(dataset, [train_len, test_len])\n",
    "\n",
    "print(len(dataset_train), len(dataset_test))\n",
    "\n",
    "# Load the data using a dataloader\n",
    "dataloader_train = DataLoader(\n",
    "    dataset_train,\n",
    "    batch_size=batch_size,\n",
    "    shuffle=True\n",
    ")\n",
    "\n",
    "dataloader_test = DataLoader(\n",
    "    dataset_test,\n",
    "    batch_size=batch_size,\n",
    "    shuffle=True\n",
    ")"
   ]
  },
  {
   "cell_type": "markdown",
   "metadata": {
    "id": "Rd_Vy9fvI1ZH"
   },
   "source": [
    "## Learning Rate Finder"
   ]
  },
  {
   "cell_type": "code",
   "execution_count": null,
   "metadata": {
    "id": "5bvH5r2jk0et"
   },
   "outputs": [],
   "source": [
    "!pip install torch-lr-finder"
   ]
  },
  {
   "cell_type": "code",
   "execution_count": 36,
   "metadata": {
    "colab": {
     "base_uri": "https://localhost:8080/",
     "height": 385,
     "referenced_widgets": [
      "ad3ec39b976c4ac8bc229e62f5d91d12",
      "41c0ae11296948cfa39b517961eb3ce4",
      "7c000c9291f74a168e22cf6ea4f04d78",
      "0d8227b88448455da9b5802163cdb212",
      "72c1b2e7cd94472fb7c436b9e614c453",
      "df637a007cf3495abf446a329a361c19",
      "d6e80d2817bd4827b04d63430af17436",
      "e0b3715bd4f14ea7b4d6e814efff2f74"
     ]
    },
    "id": "JfQN1l1xk1mT",
    "outputId": "456b147d-47da-4211-b481-8800bf37f2f7"
   },
   "outputs": [
    {
     "data": {
      "application/vnd.jupyter.widget-view+json": {
       "model_id": "ad3ec39b976c4ac8bc229e62f5d91d12",
       "version_major": 2,
       "version_minor": 0
      },
      "text/plain": [
       "HBox(children=(FloatProgress(value=0.0), HTML(value='')))"
      ]
     },
     "metadata": {
      "tags": []
     },
     "output_type": "display_data"
    },
    {
     "name": "stdout",
     "output_type": "stream",
     "text": [
      "\n",
      "Learning rate search finished. See the graph with {finder_name}.plot()\n",
      "LR suggestion: steepest gradient\n",
      "Suggested LR: 6.14E-02\n"
     ]
    },
    {
     "data": {
      "image/png": "[encoded data removed]",
      "text/plain": [
       "<Figure size 432x288 with 1 Axes>"
      ]
     },
     "metadata": {
      "needs_background": "light",
      "tags": []
     },
     "output_type": "display_data"
    }
   ],
   "source": [
    "from torch_lr_finder import LRFinder\n",
    "\n",
    "criterion = torch.nn.BCELoss()\n",
    "model = PatchModel().to(device)\n",
    "optimizer = torch.optim.SGD(model.parameters(), lr=1e-6, momentum = 0.9)\n",
    "\n",
    "# Use the LR-finder to find the optimal learning rate\n",
    "lr_finder = LRFinder(model, optimizer, criterion, device=\"cuda\")\n",
    "lr_finder.range_test(dataloader_train, end_lr=1, num_iter=100)\n",
    "lr_finder.plot() # Plot resuling graph: loss as a function of epochs \n",
    "lr_finder.reset()"
   ]
  },
  {
   "cell_type": "markdown",
   "metadata": {
    "id": "8O5OGG1eM9Om"
   },
   "source": [
    "## Train the model"
   ]
  },
  {
   "cell_type": "code",
   "execution_count": 37,
   "metadata": {
    "colab": {
     "base_uri": "https://localhost:8080/"
    },
    "id": "Zd_sdxuchcWR",
    "outputId": "d656904f-29f7-45e6-9141-82720e6d3cdd"
   },
   "outputs": [
    {
     "name": "stdout",
     "output_type": "stream",
     "text": [
      "Adjusting learning rate of group 0 to 8.0000e-02.\n"
     ]
    }
   ],
   "source": [
    "learning_rate = 8e-2\n",
    "decay_rate = 0.95\n",
    "\n",
    "# Initialize training with the right optimizer and criterion\n",
    "model = PatchModel().to(device)\n",
    "criterion = torch.nn.BCELoss()\n",
    "optimizer = torch.optim.SGD(model.parameters(), lr=learning_rate, momentum = 0.9)\n",
    "scheduler = torch.optim.lr_scheduler.ExponentialLR(optimizer=optimizer, gamma=decay_rate, verbose=True)"
   ]
  },
  {
   "cell_type": "code",
   "execution_count": null,
   "metadata": {
    "id": "6G4-HGHq3ncH"
   },
   "outputs": [],
   "source": [
    "# Train the model for a 100 epochs, and save it every 20\n",
    "for i in range(0, 101, 20):\n",
    "    training.train(model, criterion, dataloader_train, dataloader_test, optimizer, scheduler, 20)\n",
    "    torch.save({\n",
    "            'model_state_dict': model.state_dict(),\n",
    "            'optimizer_state_dict': optimizer.state_dict(),\n",
    "            'scheduler_state_dict': scheduler.state_dict()\n",
    "            }, '/content/drive/Shareddrives/road-segmentation/cnn_{}_sgdmomentum_lr{}_decay{}'.format(i, learning_rate, decay_rate))"
   ]
  },
  {
   "cell_type": "markdown",
   "metadata": {
    "id": "W_k_rX4ZFtuV"
   },
   "source": [
    "## Predict output for testing images"
   ]
  },
  {
   "cell_type": "code",
   "execution_count": 44,
   "metadata": {
    "id": "Usa0WHJq1a6u"
   },
   "outputs": [],
   "source": [
    "# Reload the desired model\n",
    "checkpoint = torch.load('/content/drive/Shareddrives/road-segmentation/cnn_100_sgdmomentum_lr0.08_decay0.95')\n",
    "model.load_state_dict(checkpoint['model_state_dict'])\n",
    "optimizer.load_state_dict(checkpoint['optimizer_state_dict'])\n",
    "scheduler.load_state_dict(checkpoint['scheduler_state_dict'])"
   ]
  },
  {
   "cell_type": "code",
   "execution_count": 45,
   "metadata": {
    "id": "CmqUxexDcGk_"
   },
   "outputs": [],
   "source": [
    "# Load the training data\n",
    "submission = PatchedTestSatImagesDataset(test_path)\n",
    "dataloader_submission = DataLoader(\n",
    "    submission, \n",
    "    batch_size=1,\n",
    "    shuffle=False\n",
    ")\n",
    "\n",
    "# Predict the outputs for each patch and write to submission file\n",
    "with open('submission.csv', 'w') as f:\n",
    "    f.write('id,prediction\\n')\n",
    "    model.eval()\n",
    "    for img_id, X in dataloader_submission:\n",
    "        X = X.to(device)\n",
    "        Y = model(X).item()\n",
    "        f.write(f'{img_id[0]},{Y}\\n')        "
   ]
  },
  {
   "cell_type": "code",
   "execution_count": null,
   "metadata": {
    "id": "Pqp-0IU6iY9Q"
   },
   "outputs": [],
   "source": []
  }
 ],
 "metadata": {
  "accelerator": "GPU",
  "colab": {
   "name": "CNN.ipynb",
   "provenance": [],
   "toc_visible": true
  },
  "kernelspec": {
   "display_name": "Python 3",
   "language": "python",
   "name": "python3"
  },
  "language_info": {
   "codemirror_mode": {
    "name": "ipython",
    "version": 3
   },
   "file_extension": ".py",
   "mimetype": "text/x-python",
   "name": "python",
   "nbconvert_exporter": "python",
   "pygments_lexer": "ipython3",
   "version": "3.8.3"
  },
  "widgets": {
   "application/vnd.jupyter.widget-state+json": {
    "0d8227b88448455da9b5802163cdb212": {
     "model_module": "@jupyter-widgets/controls",
     "model_name": "HTMLModel",
     "state": {
      "_dom_classes": [],
      "_model_module": "@jupyter-widgets/controls",
      "_model_module_version": "1.5.0",
      "_model_name": "HTMLModel",
      "_view_count": null,
      "_view_module": "@jupyter-widgets/controls",
      "_view_module_version": "1.5.0",
      "_view_name": "HTMLView",
      "description": "",
      "description_tooltip": null,
      "layout": "IPY_MODEL_e0b3715bd4f14ea7b4d6e814efff2f74",
      "placeholder": "​",
      "style": "IPY_MODEL_d6e80d2817bd4827b04d63430af17436",
      "value": " 100/100 [00:01&lt;00:00, 73.83it/s]"
     }
    },
    "41c0ae11296948cfa39b517961eb3ce4": {
     "model_module": "@jupyter-widgets/base",
     "model_name": "LayoutModel",
     "state": {
      "_model_module": "@jupyter-widgets/base",
      "_model_module_version": "1.2.0",
      "_model_name": "LayoutModel",
      "_view_count": null,
      "_view_module": "@jupyter-widgets/base",
      "_view_module_version": "1.2.0",
      "_view_name": "LayoutView",
      "align_content": null,
      "align_items": null,
      "align_self": null,
      "border": null,
      "bottom": null,
      "display": null,
      "flex": null,
      "flex_flow": null,
      "grid_area": null,
      "grid_auto_columns": null,
      "grid_auto_flow": null,
      "grid_auto_rows": null,
      "grid_column": null,
      "grid_gap": null,
      "grid_row": null,
      "grid_template_areas": null,
      "grid_template_columns": null,
      "grid_template_rows": null,
      "height": null,
      "justify_content": null,
      "justify_items": null,
      "left": null,
      "margin": null,
      "max_height": null,
      "max_width": null,
      "min_height": null,
      "min_width": null,
      "object_fit": null,
      "object_position": null,
      "order": null,
      "overflow": null,
      "overflow_x": null,
      "overflow_y": null,
      "padding": null,
      "right": null,
      "top": null,
      "visibility": null,
      "width": null
     }
    },
    "72c1b2e7cd94472fb7c436b9e614c453": {
     "model_module": "@jupyter-widgets/controls",
     "model_name": "ProgressStyleModel",
     "state": {
      "_model_module": "@jupyter-widgets/controls",
      "_model_module_version": "1.5.0",
      "_model_name": "ProgressStyleModel",
      "_view_count": null,
      "_view_module": "@jupyter-widgets/base",
      "_view_module_version": "1.2.0",
      "_view_name": "StyleView",
      "bar_color": null,
      "description_width": "initial"
     }
    },
    "7c000c9291f74a168e22cf6ea4f04d78": {
     "model_module": "@jupyter-widgets/controls",
     "model_name": "FloatProgressModel",
     "state": {
      "_dom_classes": [],
      "_model_module": "@jupyter-widgets/controls",
      "_model_module_version": "1.5.0",
      "_model_name": "FloatProgressModel",
      "_view_count": null,
      "_view_module": "@jupyter-widgets/controls",
      "_view_module_version": "1.5.0",
      "_view_name": "ProgressView",
      "bar_style": "success",
      "description": "100%",
      "description_tooltip": null,
      "layout": "IPY_MODEL_df637a007cf3495abf446a329a361c19",
      "max": 100,
      "min": 0,
      "orientation": "horizontal",
      "style": "IPY_MODEL_72c1b2e7cd94472fb7c436b9e614c453",
      "value": 100
     }
    },
    "ad3ec39b976c4ac8bc229e62f5d91d12": {
     "model_module": "@jupyter-widgets/controls",
     "model_name": "HBoxModel",
     "state": {
      "_dom_classes": [],
      "_model_module": "@jupyter-widgets/controls",
      "_model_module_version": "1.5.0",
      "_model_name": "HBoxModel",
      "_view_count": null,
      "_view_module": "@jupyter-widgets/controls",
      "_view_module_version": "1.5.0",
      "_view_name": "HBoxView",
      "box_style": "",
      "children": [
       "IPY_MODEL_7c000c9291f74a168e22cf6ea4f04d78",
       "IPY_MODEL_0d8227b88448455da9b5802163cdb212"
      ],
      "layout": "IPY_MODEL_41c0ae11296948cfa39b517961eb3ce4"
     }
    },
    "d6e80d2817bd4827b04d63430af17436": {
     "model_module": "@jupyter-widgets/controls",
     "model_name": "DescriptionStyleModel",
     "state": {
      "_model_module": "@jupyter-widgets/controls",
      "_model_module_version": "1.5.0",
      "_model_name": "DescriptionStyleModel",
      "_view_count": null,
      "_view_module": "@jupyter-widgets/base",
      "_view_module_version": "1.2.0",
      "_view_name": "StyleView",
      "description_width": ""
     }
    },
    "df637a007cf3495abf446a329a361c19": {
     "model_module": "@jupyter-widgets/base",
     "model_name": "LayoutModel",
     "state": {
      "_model_module": "@jupyter-widgets/base",
      "_model_module_version": "1.2.0",
      "_model_name": "LayoutModel",
      "_view_count": null,
      "_view_module": "@jupyter-widgets/base",
      "_view_module_version": "1.2.0",
      "_view_name": "LayoutView",
      "align_content": null,
      "align_items": null,
      "align_self": null,
      "border": null,
      "bottom": null,
      "display": null,
      "flex": null,
      "flex_flow": null,
      "grid_area": null,
      "grid_auto_columns": null,
      "grid_auto_flow": null,
      "grid_auto_rows": null,
      "grid_column": null,
      "grid_gap": null,
      "grid_row": null,
      "grid_template_areas": null,
      "grid_template_columns": null,
      "grid_template_rows": null,
      "height": null,
      "justify_content": null,
      "justify_items": null,
      "left": null,
      "margin": null,
      "max_height": null,
      "max_width": null,
      "min_height": null,
      "min_width": null,
      "object_fit": null,
      "object_position": null,
      "order": null,
      "overflow": null,
      "overflow_x": null,
      "overflow_y": null,
      "padding": null,
      "right": null,
      "top": null,
      "visibility": null,
      "width": null
     }
    },
    "e0b3715bd4f14ea7b4d6e814efff2f74": {
     "model_module": "@jupyter-widgets/base",
     "model_name": "LayoutModel",
     "state": {
      "_model_module": "@jupyter-widgets/base",
      "_model_module_version": "1.2.0",
      "_model_name": "LayoutModel",
      "_view_count": null,
      "_view_module": "@jupyter-widgets/base",
      "_view_module_version": "1.2.0",
      "_view_name": "LayoutView",
      "align_content": null,
      "align_items": null,
      "align_self": null,
      "border": null,
      "bottom": null,
      "display": null,
      "flex": null,
      "flex_flow": null,
      "grid_area": null,
      "grid_auto_columns": null,
      "grid_auto_flow": null,
      "grid_auto_rows": null,
      "grid_column": null,
      "grid_gap": null,
      "grid_row": null,
      "grid_template_areas": null,
      "grid_template_columns": null,
      "grid_template_rows": null,
      "height": null,
      "justify_content": null,
      "justify_items": null,
      "left": null,
      "margin": null,
      "max_height": null,
      "max_width": null,
      "min_height": null,
      "min_width": null,
      "object_fit": null,
      "object_position": null,
      "order": null,
      "overflow": null,
      "overflow_x": null,
      "overflow_y": null,
      "padding": null,
      "right": null,
      "top": null,
      "visibility": null,
      "width": null
     }
    }
   }
  }
 },
 "nbformat": 4,
 "nbformat_minor": 4
}
