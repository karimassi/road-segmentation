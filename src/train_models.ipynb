{
 "cells": [
  {
   "cell_type": "code",
   "execution_count": null,
   "metadata": {
    "colab": {
     "base_uri": "https://localhost:8080/"
    },
    "id": "_26Yig99f-l-",
    "outputId": "81096528-988f-4eb3-9b34-ab6afe0032fc"
   },
   "outputs": [],
   "source": [
    "%matplotlib inline\n",
    "import torch\n",
    "import os,sys\n",
    "import numpy as np\n",
    "import torchvision.io as io\n",
    "import matplotlib.pyplot as plt\n",
    "import matplotlib.image as mpimg\n",
    "#from torchvision import transforms \n",
    "from torch.utils.data import Dataset, random_split, DataLoader\n",
    "%load_ext autoreload\n",
    "%autoreload 2"
   ]
  },
  {
   "cell_type": "code",
   "execution_count": null,
   "metadata": {
    "colab": {
     "base_uri": "https://localhost:8080/"
    },
    "id": "Kq7eYIRvf1lb",
    "outputId": "39202f97-3abe-496d-d86d-09ffee416d7a"
   },
   "outputs": [],
   "source": [
    "device = torch.device(\"cuda\" if torch.cuda.is_available() else \"cpu\")\n",
    "print(device)"
   ]
  },
  {
   "cell_type": "code",
   "execution_count": null,
   "metadata": {
    "colab": {
     "base_uri": "https://localhost:8080/"
    },
    "id": "TtaFMa9WWJPk",
    "outputId": "1bdec33b-38b0-474c-eecf-d9e482233b98"
   },
   "outputs": [],
   "source": [
    "if \"google.colab\" in sys.modules:\n",
    "    from google.colab import drive\n",
    "    drive.mount('/content/drive', force_remount=True, use_metadata_server=False)"
   ]
  },
  {
   "cell_type": "code",
   "execution_count": null,
   "metadata": {
    "id": "LwA1bEMof8Nh"
   },
   "outputs": [],
   "source": [
    "def import_file(url, filename):\n",
    "  import requests\n",
    "  r = requests.get(url)\n",
    "\n",
    "  with open(filename, 'w') as f:\n",
    "        f.write(r.text)\n",
    "\n",
    "if \"google.colab\" in sys.modules:\n",
    "    # Save datagenerators as file to colab working directory\n",
    "    # If you are using GitHub, make sure you get the \"Raw\" version of the code\n",
    "    url_u_net = 'https://raw.githubusercontent.com/karimassi/road-segmentation/u_net/src/models/u_net.py?token=AJVSYDHQIQ5KJXR6G5EH6NS7275YE'\n",
    "    import_file(url_u_net, 'u_net.py')\n",
    "\n",
    "    url_u_net_paper = 'https://raw.githubusercontent.com/karimassi/road-segmentation/u_net/src/models/u_net_paper.py?token=AJVSYDDDE2ZOO2E5RKHSDNK7275ZI'\n",
    "    import_file(url_u_net_paper, 'u_net_paper.py')\n",
    "\n",
    "    url_training = 'https://raw.githubusercontent.com/karimassi/road-segmentation/u_net/src/training.py?token=AJVSYDBUQJXHKKCMQZTOC3272752S'\n",
    "    import_file(url_training, 'training.py')\n",
    "\n",
    "    url_image_mask_dataset = \"https://raw.githubusercontent.com/karimassi/road-segmentation/u_net/src/image_mask_dataset.py?token=AJVSYDEYVNI34EBZZW6QMPK72753U\"\n",
    "    import_file(url_image_mask_dataset, 'image_mask_dataset.py')\n",
    "\n",
    "    url_losses = \"https://raw.githubusercontent.com/karimassi/road-segmentation/u_net/src/losses.py?token=AJVSYDGGYYFBALHBYGZQM4S727546\"\n",
    "    import_file(url_losses, 'losses.py')\n",
    "\n",
    "    url_mask_to_submission = \"https://raw.githubusercontent.com/karimassi/road-segmentation/main/src/scripts/mask_to_submission.py?token=AH35XE7VAZF5BT3TVQTODU273DBZU\"\n",
    "    import_file(url_mask_to_submission, 'mask_to_submission.py')\n",
    "        \n",
    "    import u_net\n",
    "    import u_net_paper \n",
    "    import training\n",
    "    import image_mask_dataset\n",
    "    import losses\n",
    "    from mask_to_submission import masks_to_submission\n",
    "else:\n",
    "    from src import u_net\n",
    "    from src import u_net_paper\n",
    "    from src import training\n",
    "    from src import image_mask_dataset\n",
    "    from src import losses"
   ]
  },
  {
   "cell_type": "code",
   "execution_count": null,
   "metadata": {
    "id": "urOzMnkscDh8"
   },
   "outputs": [],
   "source": [
    "# load data\n",
    "from image_mask_dataset import ImageMaskDataset\n",
    "\n",
    "root_dir = \"/content/drive/Shareddrives/road-segmentation/data/training/\"\n",
    "image_dir = root_dir + \"images/\"\n",
    "gt_dir = root_dir + \"groundtruth/\"\n",
    "\n",
    "# TODO change implementation of this dataset\n",
    "dataset = ImageMaskDataset(image_dir, gt_dir, 0)\n",
    "\n",
    "# apply transformations\n",
    "rotations = [5, 10, 15, 27, 32, 44, 50, 59, 63, 70, 86, 90, 100, 120, -30, -45, -90]\n",
    "for angle in rotations:\n",
    "    dataset += ImageMaskDataset(image_dir, gt_dir, angle)\n",
    "\n",
    "#dataset += ImageMaskDataset(image_dir, gt_dir, transforms.RandomVerticalFlip(p = 1.0))\n",
    "#dataset += ImageMaskDataset(image_dir, gt_dir, transforms.RandomHorizontalFlip(p = 1.0))"
   ]
  },
  {
   "cell_type": "code",
   "execution_count": null,
   "metadata": {
    "colab": {
     "base_uri": "https://localhost:8080/"
    },
    "id": "llYxAWGhiLk9",
    "outputId": "2da914f6-0017-4672-e7c1-0c2a0eccc79f"
   },
   "outputs": [],
   "source": [
    "num_epochs = 10\n",
    "learning_rate = 1e-3\n",
    "batch_size = 5\n",
    "\n",
    "data_len = len(dataset)\n",
    "train_len = int(data_len * 0.9)\n",
    "test_len = int(data_len * 0.1)\n",
    "\n",
    "dataset_train, dataset_test = random_split(dataset, [train_len, test_len])\n",
    "print(len(dataset_train), len(dataset_test))\n",
    "\n",
    "dataloader_train = torch.utils.data.DataLoader(\n",
    "    dataset_train,\n",
    "    batch_size=batch_size,\n",
    "    shuffle=True\n",
    ")\n",
    "\n",
    "dataloader_test = torch.utils.data.DataLoader(\n",
    "    dataset_test,\n",
    "    batch_size=batch_size,\n",
    "    shuffle=True\n",
    ")\n",
    "\n",
    "import u_net_paper\n",
    "from u_net_paper import UNet_paper\n",
    "\n",
    "NUM_CHANNELS = 3\n",
    "NUM_FILTERS = 32\n",
    "\n",
    "import training\n",
    "\n",
    "# Train the u-net model with the SGD optimizer\n",
    "model = UNet_paper(NUM_CHANNELS, NUM_FILTERS).to(device)\n",
    "criterion = losses.Dice()\n",
    "\n",
    "optimizer = torch.optim.Adam(model.parameters(), lr=learning_rate)\n",
    "training.train(model, criterion, dataloader_train, dataloader_test, optimizer, num_epochs)\n",
    "\n",
    "#from torchsummary import summary\n",
    "#summary(model, input_size=(NUM_CHANNELS, 400, 400))"
   ]
  },
  {
   "cell_type": "code",
   "execution_count": null,
   "metadata": {
    "id": "KBBaPsmKo9PX"
   },
   "outputs": [],
   "source": [
    "torch.save(model, \"u_net.pkt\")"
   ]
  },
  {
   "cell_type": "code",
   "execution_count": null,
   "metadata": {
    "colab": {
     "base_uri": "https://localhost:8080/",
     "height": 234
    },
    "id": "_nYy4ATKo36m",
    "outputId": "0ce891f9-d660-4de6-f424-aaddfbfc92f8"
   },
   "outputs": [],
   "source": [
    "import image_mask_dataset\n",
    "submission_dataloader = DataLoader(\n",
    "    image_mask_dataset.FullSubmissionImageDataset(test_dir),\n",
    "    batch_size=1\n",
    ")"
   ]
  },
  {
   "cell_type": "code",
   "execution_count": null,
   "metadata": {
    "colab": {
     "base_uri": "https://localhost:8080/",
     "height": 130
    },
    "id": "tTqRe2YHkq89",
    "outputId": "b262ec52-8a30-4fb1-bb87-c2fa7c5b144f"
   },
   "outputs": [],
   "source": [
    "model.eval()\n",
    "toPIL = transforms.ToPILImage()\n",
    "\n",
    "output_dir = \"outputs/\"\n",
    "\n",
    "os.makedirs(output_dir)\n",
    "for indexes, images in submission_dataloader:\n",
    "    out = model(images.to(device)).view(2, 608, 608).cpu()\n",
    "    toPIL(out[0]).save(output_dir + \"file_{}.png\".format(indexes.view(-1).item()))"
   ]
  },
  {
   "cell_type": "code",
   "execution_count": null,
   "metadata": {
    "id": "RIHyfV8TuXMl"
   },
   "outputs": [],
   "source": [
    "masks_to_submission(\"submission.csv\", [output_dir + f in os.listdir(output_dir)])"
   ]
  }
 ],
 "metadata": {
  "accelerator": "GPU",
  "colab": {
   "collapsed_sections": [],
   "machine_shape": "hm",
   "name": "train_models.ipynb",
   "provenance": []
  },
  "kernelspec": {
   "display_name": "Python 3",
   "language": "python",
   "name": "python3"
  },
  "language_info": {
   "codemirror_mode": {
    "name": "ipython",
    "version": 3
   },
   "file_extension": ".py",
   "mimetype": "text/x-python",
   "name": "python",
   "nbconvert_exporter": "python",
   "pygments_lexer": "ipython3",
   "version": "3.8.6"
  }
 },
 "nbformat": 4,
 "nbformat_minor": 4
}
