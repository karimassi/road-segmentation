{
  "nbformat": 4,
  "nbformat_minor": 0,
  "metadata": {
    "colab": {
      "name": "train_models.ipynb",
      "provenance": [],
      "collapsed_sections": [],
      "machine_shape": "hm"
    },
    "kernelspec": {
      "name": "python3",
      "display_name": "Python 3"
    },
    "accelerator": "GPU"
  },
  "cells": [
    {
      "cell_type": "code",
      "metadata": {
        "id": "_26Yig99f-l-"
      },
      "source": [
        "%matplotlib inline\n",
        "import torch\n",
        "import os,sys\n",
        "import numpy as np\n",
        "import torchvision.io as io\n",
        "import matplotlib.pyplot as plt\n",
        "import matplotlib.image as mpimg\n",
        "#from torchvision import transforms \n",
        "from torch.utils.data import Dataset, random_split"
      ],
      "execution_count": 1,
      "outputs": []
    },
    {
      "cell_type": "code",
      "metadata": {
        "colab": {
          "base_uri": "https://localhost:8080/"
        },
        "id": "Kq7eYIRvf1lb",
        "outputId": "58211e6c-899e-43f1-ffc4-90317238108f"
      },
      "source": [
        "device = torch.device(\"cuda\" if torch.cuda.is_available() else \"cpu\")\n",
        "print(device)"
      ],
      "execution_count": 2,
      "outputs": [
        {
          "output_type": "stream",
          "text": [
            "cuda\n"
          ],
          "name": "stdout"
        }
      ]
    },
    {
      "cell_type": "code",
      "metadata": {
        "colab": {
          "base_uri": "https://localhost:8080/"
        },
        "id": "TtaFMa9WWJPk",
        "outputId": "d98eb121-8a8d-4174-e830-b91d92703d8b"
      },
      "source": [
        "if \"google.colab\" in sys.modules:\n",
        "    from google.colab import drive\n",
        "    drive.mount('/content/drive', force_remount=True, use_metadata_server=False)"
      ],
      "execution_count": 3,
      "outputs": [
        {
          "output_type": "stream",
          "text": [
            "Mounted at /content/drive\n"
          ],
          "name": "stdout"
        }
      ]
    },
    {
      "cell_type": "code",
      "metadata": {
        "id": "LwA1bEMof8Nh"
      },
      "source": [
        "def import_file(url, filename):\n",
        "  import requests\n",
        "  r = requests.get(url)\n",
        "\n",
        "  with open(filename, 'w') as f:\n",
        "        f.write(r.text)\n",
        "\n",
        "if \"google.colab\" in sys.modules:\n",
        "    # Save datagenerators as file to colab working directory\n",
        "    # If you are using GitHub, make sure you get the \"Raw\" version of the code\n",
        "    url_u_net = 'https://raw.githubusercontent.com/karimassi/road-segmentation/u_net/src/models/u_net.py?token=AJVSYDHQIQ5KJXR6G5EH6NS7275YE'\n",
        "    import_file(url_u_net, 'u_net.py')\n",
        "\n",
        "    url_u_net_paper = 'https://raw.githubusercontent.com/karimassi/road-segmentation/u_net/src/models/u_net_paper.py?token=AJVSYDDDE2ZOO2E5RKHSDNK7275ZI'\n",
        "    import_file(url_u_net_paper, 'u_net_paper.py')\n",
        "\n",
        "    url_training = 'https://raw.githubusercontent.com/karimassi/road-segmentation/u_net/src/training.py?token=AJVSYDBUQJXHKKCMQZTOC3272752S'\n",
        "    import_file(url_training, 'training.py')\n",
        "\n",
        "    url_image_mask_dataset = \"https://raw.githubusercontent.com/karimassi/road-segmentation/u_net/src/image_mask_dataset.py?token=AJVSYDEYVNI34EBZZW6QMPK72753U\"\n",
        "    import_file(url_image_mask_dataset, 'image_mask_dataset.py')\n",
        "\n",
        "    url_losses = \"https://raw.githubusercontent.com/karimassi/road-segmentation/u_net/src/losses.py?token=AJVSYDGGYYFBALHBYGZQM4S727546\"\n",
        "    import_file(url_losses, 'losses.py')\n",
        "        \n",
        "    import u_net\n",
        "    import u_net_paper \n",
        "    import training\n",
        "    import image_mask_dataset\n",
        "    import losses\n",
        "else:\n",
        "    from src import u_net\n",
        "    from src import u_net_paper\n",
        "    from src import training\n",
        "    from src import image_mask_dataset\n",
        "    from src import losses"
      ],
      "execution_count": 4,
      "outputs": []
    },
    {
      "cell_type": "code",
      "metadata": {
        "colab": {
          "base_uri": "https://localhost:8080/"
        },
        "id": "MMKfrnYZgN-2",
        "outputId": "d7be3461-b371-4711-9950-849c06bc10e8"
      },
      "source": [
        "import importlib\n",
        "importlib.reload(image_mask_dataset)\n",
        "importlib.reload(u_net)\n",
        "importlib.reload(u_net_paper)\n",
        "importlib.reload(training)\n",
        "importlib.reload(losses)"
      ],
      "execution_count": 9,
      "outputs": [
        {
          "output_type": "execute_result",
          "data": {
            "text/plain": [
              "<module 'losses' from '/content/losses.py'>"
            ]
          },
          "metadata": {
            "tags": []
          },
          "execution_count": 9
        }
      ]
    },
    {
      "cell_type": "code",
      "metadata": {
        "id": "urOzMnkscDh8"
      },
      "source": [
        "# load data\n",
        "from image_mask_dataset import ImageMaskDataset\n",
        "\n",
        "root_dir = \"/content/drive/Shareddrives/road-segmentation/data/training/\"\n",
        "image_dir = root_dir + \"images/\"\n",
        "gt_dir = root_dir + \"groundtruth/\"\n",
        "\n",
        "# TODO change implementation of this dataset\n",
        "dataset = ImageMaskDataset(image_dir, gt_dir, 0)\n",
        "\n",
        "# apply transformations\n",
        "rotations = [5, 10, 15, 27, 32, 44, 50, 59, 63, 70, 86, 90, 100, 120, -30, -45, -90]\n",
        "for angle in rotations:\n",
        "    dataset += ImageMaskDataset(image_dir, gt_dir, angle)\n",
        "\n",
        "#dataset += ImageMaskDataset(image_dir, gt_dir, transforms.RandomVerticalFlip(p = 1.0))\n",
        "#dataset += ImageMaskDataset(image_dir, gt_dir, transforms.RandomHorizontalFlip(p = 1.0))"
      ],
      "execution_count": 6,
      "outputs": []
    },
    {
      "cell_type": "code",
      "metadata": {
        "colab": {
          "base_uri": "https://localhost:8080/"
        },
        "id": "llYxAWGhiLk9",
        "outputId": "3a080c2d-9c55-44df-f2bf-8b3fa720ea58"
      },
      "source": [
        "num_epochs = 50\n",
        "learning_rate = 1e-3\n",
        "batch_size = 5\n",
        "\n",
        "data_len = len(dataset)\n",
        "train_len = int(data_len * 0.9)\n",
        "test_len = int(data_len * 0.1)\n",
        "\n",
        "dataset_train, dataset_test = random_split(dataset, [train_len, test_len])\n",
        "print(len(dataset_train), len(dataset_test))\n",
        "\n",
        "dataloader_train = torch.utils.data.DataLoader(\n",
        "    dataset_train,\n",
        "    batch_size=batch_size,\n",
        "    shuffle=True\n",
        ")\n",
        "\n",
        "dataloader_test = torch.utils.data.DataLoader(\n",
        "    dataset_test,\n",
        "    batch_size=batch_size,\n",
        "    shuffle=True\n",
        ")\n",
        "\n",
        "import u_net_paper\n",
        "from u_net_paper import UNet_paper\n",
        "\n",
        "NUM_CHANNELS = 3\n",
        "NUM_FILTERS = 32\n",
        "\n",
        "import training\n",
        "\n",
        "# Train the u-net model with the SGD optimizer\n",
        "model = UNet_paper(NUM_CHANNELS, NUM_FILTERS).to(device)\n",
        "criterion = losses.Dice()\n",
        "\n",
        "optimizer = torch.optim.SGD(model.parameters(), lr=learning_rate)\n",
        "training.train(model, criterion, dataloader_train, dataloader_test, optimizer, num_epochs)\n",
        "\n",
        "#from torchsummary import summary\n",
        "#summary(model, input_size=(NUM_CHANNELS, 400, 400))"
      ],
      "execution_count": 10,
      "outputs": [
        {
          "output_type": "stream",
          "text": [
            "1620 180\n",
            "Starting training\n",
            "Epoch  1 | Test accuracy : 0.45063 | Test F1 : 0.46159\n",
            "Epoch  2 | Test accuracy : 0.45044 | Test F1 : 0.49575\n",
            "Epoch  3 | Test accuracy : 0.45044 | Test F1 : 0.52257\n",
            "Epoch  4 | Test accuracy : 0.45044 | Test F1 : 0.54131\n",
            "Epoch  5 | Test accuracy : 0.45044 | Test F1 : 0.55196\n",
            "Epoch  6 | Test accuracy : 0.45044 | Test F1 : 0.5583\n",
            "Epoch  7 | Test accuracy : 0.45044 | Test F1 : 0.56315\n",
            "Epoch  8 | Test accuracy : 0.45044 | Test F1 : 0.56537\n",
            "Epoch  9 | Test accuracy : 0.45044 | Test F1 : 0.56707\n",
            "Epoch  10 | Test accuracy : 0.45044 | Test F1 : 0.56801\n",
            "Epoch  11 | Test accuracy : 0.45044 | Test F1 : 0.5691\n",
            "Epoch  12 | Test accuracy : 0.45044 | Test F1 : 0.56984\n",
            "Epoch  13 | Test accuracy : 0.45044 | Test F1 : 0.57021\n",
            "Epoch  14 | Test accuracy : 0.45044 | Test F1 : 0.57073\n",
            "Epoch  15 | Test accuracy : 0.45044 | Test F1 : 0.57099\n",
            "Epoch  16 | Test accuracy : 0.45044 | Test F1 : 0.57138\n",
            "Epoch  17 | Test accuracy : 0.45044 | Test F1 : 0.57138\n",
            "Epoch  18 | Test accuracy : 0.45044 | Test F1 : 0.57156\n",
            "Epoch  19 | Test accuracy : 0.45044 | Test F1 : 0.57201\n",
            "Epoch  20 | Test accuracy : 0.45044 | Test F1 : 0.57234\n",
            "Epoch  21 | Test accuracy : 0.45044 | Test F1 : 0.57249\n",
            "Epoch  22 | Test accuracy : 0.45044 | Test F1 : 0.57263\n",
            "Epoch  23 | Test accuracy : 0.45044 | Test F1 : 0.57271\n",
            "Epoch  24 | Test accuracy : 0.45044 | Test F1 : 0.57252\n",
            "Epoch  25 | Test accuracy : 0.45044 | Test F1 : 0.57309\n",
            "Epoch  26 | Test accuracy : 0.45044 | Test F1 : 0.57304\n",
            "Epoch  27 | Test accuracy : 0.45044 | Test F1 : 0.57335\n",
            "Epoch  28 | Test accuracy : 0.45044 | Test F1 : 0.57315\n",
            "Epoch  29 | Test accuracy : 0.45044 | Test F1 : 0.57371\n",
            "Epoch  30 | Test accuracy : 0.45044 | Test F1 : 0.57383\n",
            "Epoch  31 | Test accuracy : 0.45044 | Test F1 : 0.57389\n",
            "Epoch  33 | Test accuracy : 0.45044 | Test F1 : 0.57411\n",
            "Epoch  34 | Test accuracy : 0.45044 | Test F1 : 0.5742\n",
            "Epoch  35 | Test accuracy : 0.45044 | Test F1 : 0.57443\n",
            "Epoch  36 | Test accuracy : 0.45044 | Test F1 : 0.57446\n",
            "Epoch  37 | Test accuracy : 0.45044 | Test F1 : 0.57476\n",
            "Epoch  38 | Test accuracy : 0.45044 | Test F1 : 0.57496\n",
            "Epoch  39 | Test accuracy : 0.45044 | Test F1 : 0.57517\n",
            "Epoch  40 | Test accuracy : 0.45044 | Test F1 : 0.57524\n",
            "Epoch  41 | Test accuracy : 0.45044 | Test F1 : 0.57539\n",
            "Epoch  42 | Test accuracy : 0.45044 | Test F1 : 0.57587\n",
            "Epoch  43 | Test accuracy : 0.45044 | Test F1 : 0.57616\n",
            "Epoch  44 | Test accuracy : 0.45044 | Test F1 : 0.57675\n",
            "Epoch  45 | Test accuracy : 0.45044 | Test F1 : 0.57736\n",
            "Epoch  46 | Test accuracy : 0.45044 | Test F1 : 0.57773\n",
            "Epoch  47 | Test accuracy : 0.45044 | Test F1 : 0.57817\n",
            "Epoch  48 | Test accuracy : 0.45044 | Test F1 : 0.5789\n",
            "Epoch  49 | Test accuracy : 0.45044 | Test F1 : 0.57965\n",
            "Epoch  50 | Test accuracy : 0.45044 | Test F1 : 0.58035\n"
          ],
          "name": "stdout"
        }
      ]
    }
  ]
}