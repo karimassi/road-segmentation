{
  "nbformat": 4,
  "nbformat_minor": 0,
  "metadata": {
    "kernelspec": {
      "display_name": "Python 3",
      "language": "python",
      "name": "python3"
    },
    "language_info": {
      "codemirror_mode": {
        "name": "ipython",
        "version": 3
      },
      "file_extension": ".py",
      "mimetype": "text/x-python",
      "name": "python",
      "nbconvert_exporter": "python",
      "pygments_lexer": "ipython3",
      "version": "3.8.3"
    },
    "colab": {
      "name": "data_augmentation.ipynb",
      "provenance": []
    }
  },
  "cells": [
    {
      "cell_type": "code",
      "metadata": {
        "id": "HVaybSPunffQ"
      },
      "source": [
        "%matplotlib inline\n",
        "import os,sys\n",
        "import numpy as np\n",
        "import imgaug as ia\n",
        "import matplotlib.pyplot as plt\n",
        "import matplotlib.image as mpimg\n",
        "from imgaug import augmenters as iaa\n",
        "from sklearn.model_selection import train_test_split"
      ],
      "execution_count": 1,
      "outputs": []
    },
    {
      "cell_type": "code",
      "metadata": {
        "id": "tIRAL1MInffR"
      },
      "source": [
        "def load_image(infilename):\n",
        "    data = mpimg.imread(infilename)\n",
        "    return data\n",
        "\n",
        "def img_float_to_uint8(img):\n",
        "    rimg = img - np.min(img)\n",
        "    rimg = (rimg / np.max(rimg) * 255).round().astype(np.uint8)\n",
        "    return rimg\n",
        "\n",
        "# Concatenate an image and its groundtruth\n",
        "def concatenate_images(img, gt_img):\n",
        "    nChannels = len(gt_img.shape)\n",
        "    w = gt_img.shape[0]\n",
        "    h = gt_img.shape[1]\n",
        "    if nChannels == 3:\n",
        "        cimg = np.concatenate((img, gt_img), axis=1)\n",
        "    else:\n",
        "        gt_img_3c = np.zeros((w, h, 3), dtype=np.uint8)\n",
        "        gt_img8 = img_float_to_uint8(gt_img)          \n",
        "        gt_img_3c[:,:,0] = gt_img8\n",
        "        gt_img_3c[:,:,1] = gt_img8\n",
        "        gt_img_3c[:,:,2] = gt_img8\n",
        "        img8 = img_float_to_uint8(img)\n",
        "        cimg = np.concatenate((img8, gt_img_3c), axis=1)\n",
        "    return cimg\n",
        "\n",
        "def img_crop(im, w, h):\n",
        "    list_patches = []\n",
        "    imgwidth = im.shape[0]\n",
        "    imgheight = im.shape[1]\n",
        "    is_2d = len(im.shape) < 3\n",
        "    for i in range(0,imgheight,h):\n",
        "        for j in range(0,imgwidth,w):\n",
        "            if is_2d:\n",
        "                im_patch = im[j:j+w, i:i+h]\n",
        "            else:\n",
        "                im_patch = im[j:j+w, i:i+h, :]\n",
        "            list_patches.append(im_patch)\n",
        "    return list_patches"
      ],
      "execution_count": 2,
      "outputs": []
    },
    {
      "cell_type": "code",
      "metadata": {
        "id": "slHRVBojnffR",
        "outputId": "86d5bef8-75d5-4065-aa17-43b54b002385",
        "colab": {
          "base_uri": "https://localhost:8080/",
          "height": 231
        }
      },
      "source": [
        "root_dir = \"data/training/\"\n",
        "image_dir = root_dir + \"images/\"\n",
        "gt_dir = root_dir + \"groundtruth/\"\n",
        "\n",
        "files = os.listdir(image_dir)\n",
        "n = len(files)\n",
        "\n",
        "# Loaded a set of images\n",
        "imgs = [load_image(image_dir + files[i]) for i in range(n)]\n",
        "gt_imgs = [load_image(gt_dir + files[i]) for i in range(n)]\n",
        "\n",
        "fig1 = plt.figure(figsize=(10, 10))\n",
        "plt.imshow(concatenate_images(imgs[0], gt_imgs[0]))"
      ],
      "execution_count": 3,
      "outputs": [
        {
          "output_type": "error",
          "ename": "FileNotFoundError",
          "evalue": "ignored",
          "traceback": [
            "\u001b[0;31m---------------------------------------------------------------------------\u001b[0m",
            "\u001b[0;31mFileNotFoundError\u001b[0m                         Traceback (most recent call last)",
            "\u001b[0;32m<ipython-input-3-4690c4f8ff5b>\u001b[0m in \u001b[0;36m<module>\u001b[0;34m()\u001b[0m\n\u001b[1;32m      3\u001b[0m \u001b[0mgt_dir\u001b[0m \u001b[0;34m=\u001b[0m \u001b[0mroot_dir\u001b[0m \u001b[0;34m+\u001b[0m \u001b[0;34m\"groundtruth/\"\u001b[0m\u001b[0;34m\u001b[0m\u001b[0;34m\u001b[0m\u001b[0m\n\u001b[1;32m      4\u001b[0m \u001b[0;34m\u001b[0m\u001b[0m\n\u001b[0;32m----> 5\u001b[0;31m \u001b[0mfiles\u001b[0m \u001b[0;34m=\u001b[0m \u001b[0mos\u001b[0m\u001b[0;34m.\u001b[0m\u001b[0mlistdir\u001b[0m\u001b[0;34m(\u001b[0m\u001b[0mimage_dir\u001b[0m\u001b[0;34m)\u001b[0m\u001b[0;34m\u001b[0m\u001b[0;34m\u001b[0m\u001b[0m\n\u001b[0m\u001b[1;32m      6\u001b[0m \u001b[0mn\u001b[0m \u001b[0;34m=\u001b[0m \u001b[0mlen\u001b[0m\u001b[0;34m(\u001b[0m\u001b[0mfiles\u001b[0m\u001b[0;34m)\u001b[0m\u001b[0;34m\u001b[0m\u001b[0;34m\u001b[0m\u001b[0m\n\u001b[1;32m      7\u001b[0m \u001b[0;34m\u001b[0m\u001b[0m\n",
            "\u001b[0;31mFileNotFoundError\u001b[0m: [Errno 2] No such file or directory: 'data/training/images/'"
          ]
        }
      ]
    },
    {
      "cell_type": "code",
      "metadata": {
        "id": "6FEhNQHHnffS"
      },
      "source": [
        "# Data augmentation by rotating all images/masks and randomly flipping them \n",
        "images = [img for img in imgs] \n",
        "masks = [msk for msk in gt_imgs] \n",
        "\n",
        "rotations = [(0, 45), (45, 90), (90, 135), (135, 180), (0, -45), (-45, -90), (-90, -135), (-135, -180)]\n",
        "\n",
        "for rot in rotations:\n",
        "    seq = iaa.Sequential([\n",
        "        iaa.Rotate(rot), \n",
        "        iaa.Fliplr(0.5),\n",
        "        iaa.Flipud(0.5)\n",
        "    ], random_order=True)\n",
        "    seq = seq.to_deterministic()\n",
        "    \n",
        "    images += seq(images=imgs)\n",
        "    masks += seq(images=gt_imgs)"
      ],
      "execution_count": null,
      "outputs": []
    },
    {
      "cell_type": "code",
      "metadata": {
        "id": "ZmvzgmNPnffS"
      },
      "source": [
        "images_tr, images_te, masks_tr, masks_te = train_test_split(images, masks, test_size=0.2, random_state=42)"
      ],
      "execution_count": null,
      "outputs": []
    },
    {
      "cell_type": "code",
      "metadata": {
        "id": "3PQPTsHYnffS"
      },
      "source": [
        "# Extract patches from input images\n",
        "patch_size = 100 # each patch is 16*16 pixels\n",
        "\n",
        "images_tr = [img_crop(img, patch_size, patch_size) for img in images_tr]\n",
        "masks_tr = [img_crop(msk, patch_size, patch_size) for msk in masks_tr]\n",
        "\n",
        "# Linearize list of patches\n",
        "images_tr = np.asarray([images_tr[i][j] for i in range(len(images_tr)) for j in range(len(images_tr[i]))])\n",
        "masks_tr =  np.asarray([masks_tr[i][j] for i in range(len(masks_tr)) for j in range(len(masks_tr[i]))])"
      ],
      "execution_count": null,
      "outputs": []
    },
    {
      "cell_type": "code",
      "metadata": {
        "id": "Pw3VMeSonffS"
      },
      "source": [
        ""
      ],
      "execution_count": null,
      "outputs": []
    }
  ]
}